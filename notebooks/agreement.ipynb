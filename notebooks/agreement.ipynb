{
 "cells": [
  {
   "cell_type": "markdown",
   "metadata": {},
   "source": [
    "# 🤝 Agreement Metrics\n",
    "Shared notebook version 1.0"
   ]
  },
  {
   "cell_type": "markdown",
   "id": "dc774cd7-5f84-4a62-8144-a05840e80a3a",
   "metadata": {},
   "source": [
    "## 📂 Add `src` to path"
   ]
  },
  {
   "cell_type": "code",
   "execution_count": 1,
   "id": "e67b0ee3-9e43-41a1-8951-8f55a556da97",
   "metadata": {},
   "outputs": [],
   "source": [
    "import sys\n",
    "\n",
    "sys.path.append(\"../src\")"
   ]
  },
  {
   "cell_type": "markdown",
   "id": "08e7a6ab-1675-4caf-8819-53bfe9552f6f",
   "metadata": {},
   "source": [
    "## 📑 Import Clauses"
   ]
  },
  {
   "cell_type": "code",
   "execution_count": 14,
   "id": "74d9fb31-a3d5-4542-a985-c763d3b13e4f",
   "metadata": {},
   "outputs": [],
   "source": [
    "import json\n",
    "import os\n",
    "import pickle\n",
    "import pandas as pd\n",
    "import simpledorff\n",
    "from os.path import join as pjoin\n",
    "\n",
    "import datautils"
   ]
  },
  {
   "cell_type": "markdown",
   "id": "5ad8ecd3-88b5-4f67-bc30-d5250d2734c6",
   "metadata": {},
   "source": [
    "## 🌐 Loading the uncleaned ČTK data"
   ]
  },
  {
   "cell_type": "code",
   "execution_count": 45,
   "id": "2cbd8446-71f5-4704-8d07-0fe13efbdd6b",
   "metadata": {},
   "outputs": [],
   "source": [
    "df = pd.read_csv(\"../data/label.csv\")\n",
    "df_wo_delclaims = pd.read_csv(\"../data/label_wo_delclaims.csv\")\n",
    "df_wo_delclaims_notnull = pd.read_csv(\"../data/label_wo_delclaims_notnull.csv\")"
   ]
  },
  {
   "cell_type": "code",
   "execution_count": 44,
   "metadata": {},
   "outputs": [
    {
     "data": {
      "text/html": [
       "<div>\n",
       "<style scoped>\n",
       "    .dataframe tbody tr th:only-of-type {\n",
       "        vertical-align: middle;\n",
       "    }\n",
       "\n",
       "    .dataframe tbody tr th {\n",
       "        vertical-align: top;\n",
       "    }\n",
       "\n",
       "    .dataframe thead th {\n",
       "        text-align: right;\n",
       "    }\n",
       "</style>\n",
       "<table border=\"1\" class=\"dataframe\">\n",
       "  <thead>\n",
       "    <tr style=\"text-align: right;\">\n",
       "      <th></th>\n",
       "      <th>id</th>\n",
       "      <th>user</th>\n",
       "      <th>claim</th>\n",
       "      <th>label</th>\n",
       "      <th>sandbox</th>\n",
       "      <th>oracle</th>\n",
       "      <th>flag</th>\n",
       "      <th>condition</th>\n",
       "      <th>created_at</th>\n",
       "      <th>updated_at</th>\n",
       "      <th>deleted</th>\n",
       "      <th>note</th>\n",
       "    </tr>\n",
       "  </thead>\n",
       "  <tbody>\n",
       "    <tr>\n",
       "      <th>0</th>\n",
       "      <td>3798</td>\n",
       "      <td>113</td>\n",
       "      <td>3309</td>\n",
       "      <td>REFUTES</td>\n",
       "      <td>0</td>\n",
       "      <td>0</td>\n",
       "      <td>0</td>\n",
       "      <td>NaN</td>\n",
       "      <td>1616434560</td>\n",
       "      <td>1629361503</td>\n",
       "      <td>1</td>\n",
       "      <td>Zkouška s</td>\n",
       "    </tr>\n",
       "    <tr>\n",
       "      <th>1</th>\n",
       "      <td>6204</td>\n",
       "      <td>166</td>\n",
       "      <td>3109</td>\n",
       "      <td>NOT ENOUGH INFO</td>\n",
       "      <td>0</td>\n",
       "      <td>0</td>\n",
       "      <td>0</td>\n",
       "      <td>NaN</td>\n",
       "      <td>1617224133</td>\n",
       "      <td>1631715563</td>\n",
       "      <td>0</td>\n",
       "      <td>zdoublovaný důkaz</td>\n",
       "    </tr>\n",
       "    <tr>\n",
       "      <th>2</th>\n",
       "      <td>2317</td>\n",
       "      <td>99</td>\n",
       "      <td>2560</td>\n",
       "      <td>REFUTES</td>\n",
       "      <td>0</td>\n",
       "      <td>0</td>\n",
       "      <td>0</td>\n",
       "      <td>NaN</td>\n",
       "      <td>1615836936</td>\n",
       "      <td>1632997453</td>\n",
       "      <td>0</td>\n",
       "      <td>zbytečně rozšířený důkaz</td>\n",
       "    </tr>\n",
       "    <tr>\n",
       "      <th>3</th>\n",
       "      <td>4371</td>\n",
       "      <td>135</td>\n",
       "      <td>3618</td>\n",
       "      <td>SUPPORTS</td>\n",
       "      <td>0</td>\n",
       "      <td>0</td>\n",
       "      <td>0</td>\n",
       "      <td>NaN</td>\n",
       "      <td>1616669481</td>\n",
       "      <td>1632569410</td>\n",
       "      <td>0</td>\n",
       "      <td>zbytečně rozšířený důkaz</td>\n",
       "    </tr>\n",
       "    <tr>\n",
       "      <th>4</th>\n",
       "      <td>2838</td>\n",
       "      <td>80</td>\n",
       "      <td>2931</td>\n",
       "      <td>REFUTES</td>\n",
       "      <td>0</td>\n",
       "      <td>0</td>\n",
       "      <td>0</td>\n",
       "      <td>NaN</td>\n",
       "      <td>1615976270</td>\n",
       "      <td>1631612963</td>\n",
       "      <td>0</td>\n",
       "      <td>zbytečně rozšířený důkaz</td>\n",
       "    </tr>\n",
       "    <tr>\n",
       "      <th>...</th>\n",
       "      <td>...</td>\n",
       "      <td>...</td>\n",
       "      <td>...</td>\n",
       "      <td>...</td>\n",
       "      <td>...</td>\n",
       "      <td>...</td>\n",
       "      <td>...</td>\n",
       "      <td>...</td>\n",
       "      <td>...</td>\n",
       "      <td>...</td>\n",
       "      <td>...</td>\n",
       "      <td>...</td>\n",
       "    </tr>\n",
       "    <tr>\n",
       "      <th>6276</th>\n",
       "      <td>5375</td>\n",
       "      <td>128</td>\n",
       "      <td>336</td>\n",
       "      <td>SUPPORTS</td>\n",
       "      <td>0</td>\n",
       "      <td>0</td>\n",
       "      <td>0</td>\n",
       "      <td>NaN</td>\n",
       "      <td>1616955397</td>\n",
       "      <td>1616955397</td>\n",
       "      <td>0</td>\n",
       "      <td>NaN</td>\n",
       "    </tr>\n",
       "    <tr>\n",
       "      <th>6277</th>\n",
       "      <td>5631</td>\n",
       "      <td>160</td>\n",
       "      <td>3963</td>\n",
       "      <td>SUPPORTS</td>\n",
       "      <td>0</td>\n",
       "      <td>0</td>\n",
       "      <td>0</td>\n",
       "      <td>NaN</td>\n",
       "      <td>1616962401</td>\n",
       "      <td>1632047576</td>\n",
       "      <td>1</td>\n",
       "      <td>NaN</td>\n",
       "    </tr>\n",
       "    <tr>\n",
       "      <th>6278</th>\n",
       "      <td>5887</td>\n",
       "      <td>139</td>\n",
       "      <td>3684</td>\n",
       "      <td>REFUTES</td>\n",
       "      <td>0</td>\n",
       "      <td>0</td>\n",
       "      <td>0</td>\n",
       "      <td>NaN</td>\n",
       "      <td>1617136383</td>\n",
       "      <td>1617136383</td>\n",
       "      <td>0</td>\n",
       "      <td>NaN</td>\n",
       "    </tr>\n",
       "    <tr>\n",
       "      <th>6279</th>\n",
       "      <td>6143</td>\n",
       "      <td>136</td>\n",
       "      <td>3684</td>\n",
       "      <td>REFUTES</td>\n",
       "      <td>0</td>\n",
       "      <td>0</td>\n",
       "      <td>0</td>\n",
       "      <td>NaN</td>\n",
       "      <td>1617216687</td>\n",
       "      <td>1632217544</td>\n",
       "      <td>1</td>\n",
       "      <td>NaN</td>\n",
       "    </tr>\n",
       "    <tr>\n",
       "      <th>6280</th>\n",
       "      <td>6399</td>\n",
       "      <td>110</td>\n",
       "      <td>1344</td>\n",
       "      <td>REFUTES</td>\n",
       "      <td>0</td>\n",
       "      <td>0</td>\n",
       "      <td>0</td>\n",
       "      <td>NaN</td>\n",
       "      <td>1617829946</td>\n",
       "      <td>1617829946</td>\n",
       "      <td>0</td>\n",
       "      <td>NaN</td>\n",
       "    </tr>\n",
       "  </tbody>\n",
       "</table>\n",
       "<p>6281 rows × 12 columns</p>\n",
       "</div>"
      ],
      "text/plain": [
       "        id  user  claim            label  sandbox  oracle  flag  condition  \\\n",
       "0     3798   113   3309          REFUTES        0       0     0        NaN   \n",
       "1     6204   166   3109  NOT ENOUGH INFO        0       0     0        NaN   \n",
       "2     2317    99   2560          REFUTES        0       0     0        NaN   \n",
       "3     4371   135   3618         SUPPORTS        0       0     0        NaN   \n",
       "4     2838    80   2931          REFUTES        0       0     0        NaN   \n",
       "...    ...   ...    ...              ...      ...     ...   ...        ...   \n",
       "6276  5375   128    336         SUPPORTS        0       0     0        NaN   \n",
       "6277  5631   160   3963         SUPPORTS        0       0     0        NaN   \n",
       "6278  5887   139   3684          REFUTES        0       0     0        NaN   \n",
       "6279  6143   136   3684          REFUTES        0       0     0        NaN   \n",
       "6280  6399   110   1344          REFUTES        0       0     0        NaN   \n",
       "\n",
       "      created_at  updated_at  deleted                      note  \n",
       "0     1616434560  1629361503        1                 Zkouška s  \n",
       "1     1617224133  1631715563        0         zdoublovaný důkaz  \n",
       "2     1615836936  1632997453        0  zbytečně rozšířený důkaz  \n",
       "3     1616669481  1632569410        0  zbytečně rozšířený důkaz  \n",
       "4     1615976270  1631612963        0  zbytečně rozšířený důkaz  \n",
       "...          ...         ...      ...                       ...  \n",
       "6276  1616955397  1616955397        0                       NaN  \n",
       "6277  1616962401  1632047576        1                       NaN  \n",
       "6278  1617136383  1617136383        0                       NaN  \n",
       "6279  1617216687  1632217544        1                       NaN  \n",
       "6280  1617829946  1617829946        0                       NaN  \n",
       "\n",
       "[6281 rows x 12 columns]"
      ]
     },
     "execution_count": 44,
     "metadata": {},
     "output_type": "execute_result"
    }
   ],
   "source": [
    "df"
   ]
  },
  {
   "cell_type": "markdown",
   "metadata": {},
   "source": [
    "## 🧮 Calculate using Simpledorff package"
   ]
  },
  {
   "cell_type": "markdown",
   "metadata": {},
   "source": [
    "### ✴ All labels"
   ]
  },
  {
   "cell_type": "code",
   "execution_count": 52,
   "metadata": {},
   "outputs": [
    {
     "data": {
      "text/plain": [
       "0.5631814159438078"
      ]
     },
     "execution_count": 52,
     "metadata": {},
     "output_type": "execute_result"
    }
   ],
   "source": [
    "simpledorff.calculate_krippendorffs_alpha_for_df(df,experiment_col='claim',\n",
    "                                                 annotator_col='user',\n",
    "                                                 class_col='label')\n"
   ]
  },
  {
   "cell_type": "markdown",
   "metadata": {},
   "source": [
    "### 🗑 Neglecting those of deleted claims"
   ]
  },
  {
   "cell_type": "code",
   "execution_count": 53,
   "metadata": {},
   "outputs": [
    {
     "data": {
      "text/plain": [
       "0.564200100627086"
      ]
     },
     "execution_count": 53,
     "metadata": {},
     "output_type": "execute_result"
    }
   ],
   "source": [
    "simpledorff.calculate_krippendorffs_alpha_for_df(df_wo_delclaims,experiment_col='claim',\n",
    "                                                 annotator_col='user',\n",
    "                                                 class_col='label')\n"
   ]
  },
  {
   "cell_type": "markdown",
   "metadata": {},
   "source": [
    "### 📭 Neglecting NULL's\n",
    "This is more of a sanity check - this should be the same using Krippendorff's ⍺"
   ]
  },
  {
   "cell_type": "code",
   "execution_count": 57,
   "metadata": {},
   "outputs": [
    {
     "data": {
      "text/plain": [
       "0.564200100627086"
      ]
     },
     "execution_count": 57,
     "metadata": {},
     "output_type": "execute_result"
    }
   ],
   "source": [
    "simpledorff.calculate_krippendorffs_alpha_for_df(df_wo_delclaims_notnull,\n",
    "                                                 experiment_col='claim',\n",
    "                                                 annotator_col='user',\n",
    "                                                 class_col='label')\n"
   ]
  },
  {
   "cell_type": "markdown",
   "metadata": {},
   "source": [
    "## 📊 Measuring coverage proportion"
   ]
  },
  {
   "cell_type": "markdown",
   "metadata": {},
   "source": [
    "This was ultimately done with SQL instead. See view **cross_annotation** and query count for label_count>1 vs general count(*)"
   ]
  },
  {
   "cell_type": "code",
   "execution_count": 55,
   "metadata": {},
   "outputs": [
    {
     "data": {
      "text/plain": [
       "0.5696405648267009"
      ]
     },
     "execution_count": 55,
     "metadata": {},
     "output_type": "execute_result"
    }
   ],
   "source": [
    "cross_annotated=1775\n",
    "total=3116\n",
    "cross_annotated/total"
   ]
  },
  {
   "cell_type": "code",
   "execution_count": null,
   "metadata": {},
   "outputs": [],
   "source": []
  }
 ],
 "metadata": {
  "interpreter": {
   "hash": "b0fa6594d8f4cbf19f97940f81e996739fb7646882a419484c72d19e05852a7e"
  },
  "kernelspec": {
   "display_name": "Python 3.9.7 64-bit",
   "language": "python",
   "name": "python3"
  },
  "language_info": {
   "codemirror_mode": {
    "name": "ipython",
    "version": 3
   },
   "file_extension": ".py",
   "mimetype": "text/x-python",
   "name": "python",
   "nbconvert_exporter": "python",
   "pygments_lexer": "ipython3",
   "version": "3.9.7"
  },
  "orig_nbformat": 4
 },
 "nbformat": 4,
 "nbformat_minor": 2
}
