{
 "cells": [
  {
   "cell_type": "markdown",
   "metadata": {},
   "source": [
    "# 🤝 Agreement Metrics\n",
    "Shared notebook version 1.0"
   ]
  },
  {
   "cell_type": "markdown",
   "id": "dc774cd7-5f84-4a62-8144-a05840e80a3a",
   "metadata": {},
   "source": [
    "## 📂 Add `src` to path"
   ]
  },
  {
   "cell_type": "code",
   "execution_count": 1,
   "id": "e67b0ee3-9e43-41a1-8951-8f55a556da97",
   "metadata": {},
   "outputs": [],
   "source": [
    "import sys\n",
    "\n",
    "sys.path.append(\"../src\")"
   ]
  },
  {
   "cell_type": "markdown",
   "id": "08e7a6ab-1675-4caf-8819-53bfe9552f6f",
   "metadata": {},
   "source": [
    "## 📑 Import Clauses"
   ]
  },
  {
   "cell_type": "code",
   "execution_count": 2,
   "id": "74d9fb31-a3d5-4542-a985-c763d3b13e4f",
   "metadata": {},
   "outputs": [],
   "source": [
    "import json\n",
    "import os\n",
    "import pickle\n",
    "import pandas as pd\n",
    "from os.path import join as pjoin\n",
    "\n",
    "import datautils"
   ]
  },
  {
   "cell_type": "markdown",
   "id": "5ad8ecd3-88b5-4f67-bc30-d5250d2734c6",
   "metadata": {},
   "source": [
    "## 🌐 Loading the uncleaned ČTK data"
   ]
  },
  {
   "cell_type": "code",
   "execution_count": null,
   "id": "2cbd8446-71f5-4704-8d07-0fe13efbdd6b",
   "metadata": {},
   "outputs": [],
   "source": [
    "format = \"nli\"\n",
    "evidence_format = \"text\"\n",
    "simulate_nei_evidence = 1\n",
    "single_evidence = 0\n",
    "test_size = 0.1\n",
    "validation_size = 0.12\n",
    "seed = 55\n",
    "leakage_prevention_level = \"source\""
   ]
  },
  {
   "cell_type": "markdown",
   "metadata": {},
   "source": []
  },
  {
   "cell_type": "markdown",
   "metadata": {},
   "source": []
  },
  {
   "cell_type": "code",
   "execution_count": null,
   "metadata": {},
   "outputs": [],
   "source": []
  }
 ],
 "metadata": {
  "interpreter": {
   "hash": "b0fa6594d8f4cbf19f97940f81e996739fb7646882a419484c72d19e05852a7e"
  },
  "kernelspec": {
   "display_name": "Python 3.9.7 64-bit",
   "language": "python",
   "name": "python3"
  },
  "language_info": {
   "codemirror_mode": {
    "name": "ipython",
    "version": 3
   },
   "file_extension": ".py",
   "mimetype": "text/x-python",
   "name": "python",
   "nbconvert_exporter": "python",
   "pygments_lexer": "ipython3",
   "version": "3.9.7"
  },
  "orig_nbformat": 4
 },
 "nbformat": 4,
 "nbformat_minor": 2
}
