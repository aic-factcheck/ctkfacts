{
 "cells": [
  {
   "cell_type": "markdown",
   "id": "8387e5cb-75f5-4c9e-a267-07f837ddfdd4",
   "metadata": {
    "tags": []
   },
   "source": [
    "# 📰 ČTK Dataset\n",
    "Shared notebook version 1.0"
   ]
  },
  {
   "cell_type": "markdown",
   "id": "dc774cd7-5f84-4a62-8144-a05840e80a3a",
   "metadata": {},
   "source": [
    "## 📂 Add `src` to path"
   ]
  },
  {
   "cell_type": "code",
   "execution_count": 1,
   "id": "e67b0ee3-9e43-41a1-8951-8f55a556da97",
   "metadata": {},
   "outputs": [],
   "source": [
    "import sys\n",
    "\n",
    "sys.path.append(\"../src\")"
   ]
  },
  {
   "cell_type": "markdown",
   "id": "08e7a6ab-1675-4caf-8819-53bfe9552f6f",
   "metadata": {},
   "source": [
    "## 📑 Import Clauses"
   ]
  },
  {
   "cell_type": "code",
   "execution_count": 2,
   "id": "74d9fb31-a3d5-4542-a985-c763d3b13e4f",
   "metadata": {},
   "outputs": [],
   "source": [
    "import json\n",
    "import os\n",
    "import pickle\n",
    "from os.path import join as pjoin\n",
    "\n",
    "import datautils"
   ]
  },
  {
   "cell_type": "markdown",
   "id": "5ad8ecd3-88b5-4f67-bc30-d5250d2734c6",
   "metadata": {},
   "source": [
    "## 🌐 Loading the ČTK data"
   ]
  },
  {
   "cell_type": "code",
   "execution_count": 3,
   "id": "2cbd8446-71f5-4704-8d07-0fe13efbdd6b",
   "metadata": {},
   "outputs": [],
   "source": [
    "format = \"nli\"\n",
    "evidence_format = \"text\"\n",
    "simulate_nei_evidence = 1\n",
    "single_evidence = 0\n",
    "test_size = 0.095\n",
    "validation_size = 0.12\n",
    "seed = 77\n",
    "leakage_prevention_level = \"source\""
   ]
  },
  {
   "cell_type": "markdown",
   "id": "198c1011-f02e-4275-b3c0-dc4caae32108",
   "metadata": {},
   "source": [
    "### 1. ⚡ From Live Api"
   ]
  },
  {
   "cell_type": "code",
   "execution_count": 4,
   "id": "05e3ba0f",
   "metadata": {
    "collapsed": false,
    "jupyter": {
     "outputs_hidden": false
    },
    "pycharm": {
     "name": "#%%\n"
    }
   },
   "outputs": [],
   "source": [
    "dataset = datautils.load_api_export(\n",
    "    format=format,\n",
    "    evidence_format=evidence_format,\n",
    "    simulate_nei_evidence=simulate_nei_evidence,\n",
    "    single_evidence=single_evidence,\n",
    ")"
   ]
  },
  {
   "cell_type": "markdown",
   "id": "69027dc5-f946-4be1-9870-132fdce4327a",
   "metadata": {
    "heading_collapsed": "true",
    "tags": []
   },
   "source": [
    "### 2. 💾 ... Or from JSONL Dump"
   ]
  },
  {
   "cell_type": "code",
   "execution_count": 11,
   "id": "e2ae370a-317a-4de0-a9ba-ec20af0aa6cd",
   "metadata": {},
   "outputs": [],
   "source": [
    "location = \"../export-snapshots/export_08-30-2021_0200am_173.jsonl\"\n",
    "dataset = datautils.load_jsonl(location)"
   ]
  },
  {
   "cell_type": "markdown",
   "id": "8b93b052-0b24-4f57-bea7-a4103f22fc65",
   "metadata": {},
   "source": [
    "## ✂️ Dataset Splitting"
   ]
  },
  {
   "cell_type": "code",
   "execution_count": 5,
   "id": "30e4e012-67b7-4c47-9b36-935f7e3dea8b",
   "metadata": {},
   "outputs": [
    {
     "name": "stdout",
     "output_type": "stream",
     "text": [
      "[('NOT ENOUGH INFO', 723, 0.3033990767939572), ('REFUTES', 556, 0.23331934536298782), ('SUPPORTS', 1104, 0.46328157784305496)] \n",
      " [('NOT ENOUGH INFO', 105, 0.31626506024096385), ('REFUTES', 85, 0.2560240963855422), ('SUPPORTS', 142, 0.42771084337349397)] \n",
      " [('NOT ENOUGH INFO', 127, 0.3324607329842932), ('REFUTES', 79, 0.20680628272251309), ('SUPPORTS', 176, 0.4607329842931937)]\n"
     ]
    }
   ],
   "source": [
    "train, validation, test = datautils.split(\n",
    "    dataset,\n",
    "    leakage_prevention_level=leakage_prevention_level,\n",
    "    test_size=test_size,\n",
    "    validation_size=validation_size,\n",
    "    seed=seed,\n",
    "    skip_ids=[]\n",
    ")\n",
    "\n",
    "print(datautils.counter(train), \"\\n\", datautils.counter(validation), \"\\n\", datautils.counter(test),)"
   ]
  },
  {
   "cell_type": "code",
   "execution_count": 9,
   "id": "b2616dfe-fcad-4c1b-94d2-54e0a3612026",
   "metadata": {},
   "outputs": [
    {
     "data": {
      "text/plain": [
       "(4666, 3626, 482, 558)"
      ]
     },
     "execution_count": 9,
     "metadata": {},
     "output_type": "execute_result"
    }
   ],
   "source": [
    "len(train)+len(validation)+len(test),len(train),len(validation),len(test)"
   ]
  },
  {
   "cell_type": "markdown",
   "id": "f9dfd35a-8bdc-4cd1-b667-db8b84eff4d3",
   "metadata": {},
   "source": [
    "### 💧 Leakage Prevention Levels\n",
    "1. *source* - No source article can occur in two different splits\n",
    "2. *mutated_from* - No extracted claim could have been used to mutate claims in two distinct splits\n",
    "3. *id* - **Weakest, least admissible prevention!** - No pair of different evidence sets for the same claim can occur in two different splits\n",
    "\n",
    "### 🎛️ Other params with defaults\n",
    "TODO: explain\n",
    "\n",
    "test_size=.12, validation_size=.12, skip_ids=PREVIOUSLY_USED, leakage_prevention_level=\"source\", seed=1234"
   ]
  },
  {
   "cell_type": "markdown",
   "id": "23437e8e-6422-4363-9f11-e384c0c5ac75",
   "metadata": {},
   "source": [
    "### (optional) Convert splits to single-evidence format"
   ]
  },
  {
   "cell_type": "code",
   "execution_count": 6,
   "id": "c2a07610-8bbb-424e-adc5-6635d94f3598",
   "metadata": {},
   "outputs": [
    {
     "name": "stdout",
     "output_type": "stream",
     "text": [
      "[('NOT ENOUGH INFO', 1021, 0.2815774958632101), ('REFUTES', 851, 0.23469387755102042), ('SUPPORTS', 1754, 0.48372862658576943)] \n",
      " [('NOT ENOUGH INFO', 177, 0.36721991701244816), ('REFUTES', 114, 0.23651452282157676), ('SUPPORTS', 191, 0.3962655601659751)] \n",
      " [('NOT ENOUGH INFO', 183, 0.3279569892473118), ('REFUTES', 115, 0.2060931899641577), ('SUPPORTS', 260, 0.4659498207885305)]\n"
     ]
    }
   ],
   "source": [
    "single_evidence=1\n",
    "train,validation,test = (datautils.expand_by_evidence(split) for split in (train,validation,test))\n",
    "print(datautils.counter(train), \"\\n\", datautils.counter(validation), \"\\n\", datautils.counter(test),)"
   ]
  },
  {
   "cell_type": "markdown",
   "id": "ac1068aa-149e-431e-8e85-9d4345f35d58",
   "metadata": {},
   "source": [
    "### 💾 Save DS's to folder"
   ]
  },
  {
   "cell_type": "code",
   "execution_count": 31,
   "id": "challenging-blackjack",
   "metadata": {
    "collapsed": false,
    "jupyter": {
     "outputs_hidden": false
    },
    "pycharm": {
     "name": "#%%\n"
    }
   },
   "outputs": [],
   "source": [
    "datautils.save_splits(train, validation, test, f\"/mnt/data/factcheck/CTK/dataset/splits2_{format}_{evidence_format}_s{simulate_nei_evidence}_si{single_evidence}_t{test_size}_v{validation_size}_{leakage_prevention_level}_{seed}\")"
   ]
  },
  {
   "cell_type": "markdown",
   "id": "82d9fdcd-976e-455b-9836-9a8132a1077f",
   "metadata": {},
   "source": [
    "### 🔌 Convert to SentenceTransformers trainingExamples"
   ]
  },
  {
   "cell_type": "code",
   "execution_count": 7,
   "id": "conventional-crisis",
   "metadata": {
    "collapsed": false,
    "jupyter": {
     "outputs_hidden": false
    },
    "pycharm": {
     "name": "#%%\n"
    }
   },
   "outputs": [],
   "source": [
    "trn_examples, val_examples, tst_examples = (\n",
    "    datautils.to_examples(split) for split in (train, validation, test)\n",
    ")"
   ]
  },
  {
   "cell_type": "code",
   "execution_count": 8,
   "id": "ordinary-spiritual",
   "metadata": {
    "collapsed": false,
    "jupyter": {
     "outputs_hidden": false
    },
    "pycharm": {
     "name": "#%%\n"
    }
   },
   "outputs": [],
   "source": [
    "output_path = \"../data/demo_splits/pickle\"\n",
    "os.makedirs(output_path, exist_ok=True)\n",
    "pickle.dump(trn_examples, open(pjoin(output_path, \"trn_examples.p\"), \"wb\"))\n",
    "pickle.dump(tst_examples, open(pjoin(output_path, \"tst_examples.p\"), \"wb\"))\n",
    "pickle.dump(val_examples, open(pjoin(output_path, \"val_examples.p\"), \"wb\"))"
   ]
  },
  {
   "cell_type": "markdown",
   "id": "preceding-tuner",
   "metadata": {
    "pycharm": {
     "name": "#%% md\n"
    }
   },
   "source": [
    "🎉 Congratulations! You now have a set of training examples ready to be used in the train_rte or in training pipeline sheets of May-July '21!\n",
    "\n",
    "Plug'n'play!\n",
    "## 🧭 Exploratory Analysis\n",
    "TODO"
   ]
  },
  {
   "cell_type": "code",
   "execution_count": null,
   "id": "b7aaaed4-dd0f-4893-959b-16b773c4f815",
   "metadata": {},
   "outputs": [],
   "source": []
  }
 ],
 "metadata": {
  "kernelspec": {
   "display_name": "Python 3",
   "language": "python",
   "name": "python3"
  },
  "language_info": {
   "codemirror_mode": {
    "name": "ipython",
    "version": 3
   },
   "file_extension": ".py",
   "mimetype": "text/x-python",
   "name": "python",
   "nbconvert_exporter": "python",
   "pygments_lexer": "ipython3",
   "version": "3.7.4"
  }
 },
 "nbformat": 4,
 "nbformat_minor": 5
}
