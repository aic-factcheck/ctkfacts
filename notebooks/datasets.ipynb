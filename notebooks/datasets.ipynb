{
 "cells": [
  {
   "cell_type": "markdown",
   "id": "8387e5cb-75f5-4c9e-a267-07f837ddfdd4",
   "metadata": {
    "tags": []
   },
   "source": [
    "# 🤗 Datasets"
   ]
  },
  {
   "cell_type": "markdown",
   "id": "08e7a6ab-1675-4caf-8819-53bfe9552f6f",
   "metadata": {},
   "source": [
    "## 📑 Import Clauses"
   ]
  },
  {
   "cell_type": "code",
   "execution_count": 1,
   "id": "74d9fb31-a3d5-4542-a985-c763d3b13e4f",
   "metadata": {},
   "outputs": [],
   "source": [
    "import datasets"
   ]
  },
  {
   "cell_type": "markdown",
   "id": "69027dc5-f946-4be1-9870-132fdce4327a",
   "metadata": {},
   "source": [
    "## 🌐 Loading the ČTK data"
   ]
  },
  {
   "cell_type": "code",
   "execution_count": null,
   "id": "e2ae370a-317a-4de0-a9ba-ec20af0aa6cd",
   "metadata": {},
   "outputs": [],
   "source": []
  },
  {
   "cell_type": "markdown",
   "id": "8b93b052-0b24-4f57-bea7-a4103f22fc65",
   "metadata": {},
   "source": [
    "## ✂️ Dataset Splitting"
   ]
  },
  {
   "cell_type": "code",
   "execution_count": null,
   "id": "c64652c3-a00f-45cb-9545-fce7668ae6b7",
   "metadata": {},
   "outputs": [],
   "source": []
  },
  {
   "cell_type": "markdown",
   "id": "08a66b0e-a952-4ea5-bc95-6a4499874c74",
   "metadata": {},
   "source": [
    "## 💧 Leakage Control"
   ]
  },
  {
   "cell_type": "code",
   "execution_count": null,
   "id": "172c7abe-0ebb-41a8-926a-3fe936c06973",
   "metadata": {},
   "outputs": [],
   "source": []
  },
  {
   "cell_type": "markdown",
   "id": "82d9fdcd-976e-455b-9836-9a8132a1077f",
   "metadata": {},
   "source": [
    "## 🧭 Exploratory Analysis"
   ]
  },
  {
   "cell_type": "code",
   "execution_count": null,
   "id": "b7aaaed4-dd0f-4893-959b-16b773c4f815",
   "metadata": {},
   "outputs": [],
   "source": []
  }
 ],
 "metadata": {
  "kernelspec": {
   "display_name": "Python 3",
   "language": "python",
   "name": "python3"
  },
  "language_info": {
   "codemirror_mode": {
    "name": "ipython",
    "version": 3
   },
   "file_extension": ".py",
   "mimetype": "text/x-python",
   "name": "python",
   "nbconvert_exporter": "python",
   "pygments_lexer": "ipython3",
   "version": "3.7.4"
  }
 },
 "nbformat": 4,
 "nbformat_minor": 5
}
