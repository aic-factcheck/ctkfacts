{
 "cells": [
  {
   "cell_type": "markdown",
   "id": "8387e5cb-75f5-4c9e-a267-07f837ddfdd4",
   "metadata": {
    "tags": []
   },
   "source": [
    "# 📰 ČTK Dataset\n",
    "Shared notebook version 1.0"
   ]
  },
  {
   "cell_type": "markdown",
   "id": "dc774cd7-5f84-4a62-8144-a05840e80a3a",
   "metadata": {},
   "source": [
    "## 📂 Add `src` to path"
   ]
  },
  {
   "cell_type": "code",
   "execution_count": 1,
   "id": "e67b0ee3-9e43-41a1-8951-8f55a556da97",
   "metadata": {},
   "outputs": [],
   "source": [
    "import sys\n",
    "sys.path.append(\"../src\")"
   ]
  },
  {
   "cell_type": "markdown",
   "id": "08e7a6ab-1675-4caf-8819-53bfe9552f6f",
   "metadata": {},
   "source": [
    "## 📑 Import Clauses"
   ]
  },
  {
   "cell_type": "code",
   "execution_count": 2,
   "id": "74d9fb31-a3d5-4542-a985-c763d3b13e4f",
   "metadata": {},
   "outputs": [],
   "source": [
    "import os\n",
    "import pickle\n",
    "import json\n",
    "\n",
    "from os.path import join as pjoin\n",
    "import datautils"
   ]
  },
  {
   "cell_type": "markdown",
   "id": "4d31764d",
   "metadata": {},
   "source": [
    "## 🌐 Loading the ČTK data\n",
    "### 1. ⚡ From Live Api"
   ]
  },
  {
   "cell_type": "code",
   "execution_count": 3,
   "id": "05e3ba0f",
   "metadata": {
    "collapsed": false,
    "jupyter": {
     "outputs_hidden": false
    },
    "pycharm": {
     "name": "#%%\n"
    }
   },
   "outputs": [],
   "source": [
    "dataset = datautils.load_api_export(format=\"nli\",\n",
    "                                    evidence_format=\"text\",\n",
    "                                    simulate_nei_evidence=1,\n",
    "                                    single_evidence=0)"
   ]
  },
  {
   "cell_type": "markdown",
   "id": "69027dc5-f946-4be1-9870-132fdce4327a",
   "metadata": {
    "heading_collapsed": "true",
    "tags": []
   },
   "source": [
    "### 2. 💾 ... Or from JSONL Dump"
   ]
  },
  {
   "cell_type": "code",
   "execution_count": 11,
   "id": "e2ae370a-317a-4de0-a9ba-ec20af0aa6cd",
   "metadata": {},
   "outputs": [],
   "source": [
    "location = \"../export-snapshots/export_08-30-2021_0200am_173.jsonl\"\n",
    "dataset = datautils.load_jsonl(location)"
   ]
  },
  {
   "cell_type": "markdown",
   "id": "8b93b052-0b24-4f57-bea7-a4103f22fc65",
   "metadata": {},
   "source": [
    "## ✂️ Dataset Splitting"
   ]
  },
  {
   "cell_type": "code",
   "execution_count": 4,
   "id": "30e4e012-67b7-4c47-9b36-935f7e3dea8b",
   "metadata": {},
   "outputs": [
    {
     "name": "stdout",
     "output_type": "stream",
     "text": [
      "[('NOT ENOUGH INFO', 1074, 0.27716129032258063), ('REFUTES', 928, 0.23948387096774193), ('SUPPORTS', 1873, 0.48335483870967744)] \n",
      " [('NOT ENOUGH INFO', 87, 0.258160237388724), ('REFUTES', 85, 0.2522255192878338), ('SUPPORTS', 165, 0.4896142433234421)] \n",
      " [('NOT ENOUGH INFO', 139, 0.3726541554959786), ('REFUTES', 67, 0.17962466487935658), ('SUPPORTS', 167, 0.4477211796246649)]\n"
     ]
    }
   ],
   "source": [
    "dataset = datautils.expand_by_evidence(dataset)  # convert multi- to single-evidence-set format\n",
    "train, validation, test = datautils.split(dataset, leakage_prevention_level=\"source\")\n",
    "\n",
    "print(datautils.counter(train), \"\\n\", datautils.counter(validation), \"\\n\", datautils.counter(test))"
   ]
  },
  {
   "cell_type": "code",
   "execution_count": 15,
   "id": "b2616dfe-fcad-4c1b-94d2-54e0a3612026",
   "metadata": {},
   "outputs": [
    {
     "data": {
      "text/plain": [
       "[]"
      ]
     },
     "execution_count": 15,
     "metadata": {},
     "output_type": "execute_result"
    }
   ],
   "source": [
    "dataset"
   ]
  },
  {
   "cell_type": "markdown",
   "id": "08a66b0e-a952-4ea5-bc95-6a4499874c74",
   "metadata": {},
   "source": [
    "### 💧 Leakage Prevention Levels\n",
    "1. *source* - No source article can occur in two different splits\n",
    "2. *mutated_from* - No extracted claim could have been used to mutate claims in two distinct splits\n",
    "3. *id* - **Weakest, least admissible prevention!** - No pair of different evidence sets for the same claim can occur in two different splits\n",
    "\n",
    "### 🎛️ Other params with defaults\n",
    "TODO: explain\n",
    "\n",
    "test_size=.12, validation_size=.12, skip_ids=PREVIOUSLY_USED, leakage_prevention_level=\"source\", seed=1234\n",
    "\n",
    "### 💾 Save DS's to folder"
   ]
  },
  {
   "cell_type": "code",
   "execution_count": 5,
   "id": "challenging-blackjack",
   "metadata": {
    "collapsed": false,
    "jupyter": {
     "outputs_hidden": false
    },
    "pycharm": {
     "name": "#%%\n"
    }
   },
   "outputs": [],
   "source": [
    "datautils.save_splits(train, validation, test, \"../data/demo_splits\")"
   ]
  },
  {
   "cell_type": "markdown",
   "id": "82d9fdcd-976e-455b-9836-9a8132a1077f",
   "metadata": {},
   "source": [
    "### 🔌 Convert to SentenceTransformers trainingExamples"
   ]
  },
  {
   "cell_type": "code",
   "execution_count": null,
   "id": "conventional-crisis",
   "metadata": {
    "collapsed": false,
    "jupyter": {
     "outputs_hidden": false
    },
    "pycharm": {
     "name": "#%%\n"
    }
   },
   "outputs": [],
   "source": [
    "trn_examples, val_examples, tst_examples = (datautils.to_examples(split) for split in (train, validation, test))"
   ]
  },
  {
   "cell_type": "code",
   "execution_count": null,
   "id": "ordinary-spiritual",
   "metadata": {
    "collapsed": false,
    "jupyter": {
     "outputs_hidden": false
    },
    "pycharm": {
     "name": "#%%\n"
    }
   },
   "outputs": [],
   "source": [
    "output_path = \"../data/demo_splits/pickle\"\n",
    "os.makedirs(output_path, exist_ok=True)\n",
    "pickle.dump(trn_examples, open(pjoin(output_path, \"trn_examples.p\"), \"wb\"))\n",
    "pickle.dump(tst_examples, open(pjoin(output_path, \"tst_examples.p\"), \"wb\"))\n",
    "pickle.dump(val_examples, open(pjoin(output_path, \"val_examples.p\"), \"wb\"))"
   ]
  },
  {
   "cell_type": "markdown",
   "id": "preceding-tuner",
   "metadata": {
    "pycharm": {
     "name": "#%% md\n"
    }
   },
   "source": [
    "🎉 Congratulations! You now have a set of training examples ready to be used in the train_rte or in training pipeline sheets of May-July '21!\n",
    "\n",
    "Plug'n'play!\n",
    "## 🧭 Exploratory Analysis\n",
    "TODO"
   ]
  },
  {
   "cell_type": "code",
   "execution_count": null,
   "id": "b7aaaed4-dd0f-4893-959b-16b773c4f815",
   "metadata": {},
   "outputs": [],
   "source": []
  }
 ],
 "metadata": {
  "kernelspec": {
   "display_name": "Python 3",
   "language": "python",
   "name": "python3"
  },
  "language_info": {
   "codemirror_mode": {
    "name": "ipython",
    "version": 3
   },
   "file_extension": ".py",
   "mimetype": "text/x-python",
   "name": "python",
   "nbconvert_exporter": "python",
   "pygments_lexer": "ipython3",
   "version": "3.7.4"
  }
 },
 "nbformat": 4,
 "nbformat_minor": 5
}
