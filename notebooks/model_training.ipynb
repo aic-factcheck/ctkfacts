{
 "cells": [
  {
   "cell_type": "code",
   "execution_count": 1,
   "id": "eb687e0f-0255-4f12-b0ee-9e6f76161079",
   "metadata": {},
   "outputs": [],
   "source": [
    "import argparse\n",
    "import csv\n",
    "import datetime as dt\n",
    "import json\n",
    "import logging\n",
    "import math\n",
    "import os\n",
    "import pickle\n",
    "import string\n",
    "import unicodedata as ud\n",
    "import urllib.request\n",
    "from collections import Counter, OrderedDict, defaultdict\n",
    "from itertools import chain, product\n",
    "from os.path import join as pjoin\n",
    "\n",
    "import numpy as np\n",
    "import sklearn\n",
    "import torch\n",
    "from sentence_transformers.cross_encoder import CrossEncoder\n",
    "from sentence_transformers.cross_encoder.evaluation import CESoftmaxAccuracyEvaluator\n",
    "\n",
    "from sentence_transformers.evaluation import (\n",
    "    SequentialEvaluator,\n",
    ")\n",
    "from sentence_transformers.readers import InputExample\n",
    "from torch.utils.data import DataLoader\n",
    "\n",
    "from models.rte import (\n",
    "    convert_to_sentence_pairs,\n",
    "    create_splits,\n",
    "    import_csv_dataset,\n",
    "    import_csv_dataset_nei,\n",
    "    split_evidence_sets,\n",
    "    unique_evidence,\n",
    ")\n",
    "from utils.dbcache import DBCache\n",
    "from utils.tokenization import detokenize, detokenize2\n",
    "\n",
    "logger = logging.getLogger(__name__)"
   ]
  },
  {
   "cell_type": "code",
   "execution_count": 2,
   "id": "db64ee7c-1712-4ca9-ab34-7db9a5cc8229",
   "metadata": {},
   "outputs": [],
   "source": [
    "dataset = []\n",
    "with open(\"export.jsonl\") as file:\n",
    "    for line in file:\n",
    "        dataset.append(json.loads(line))\n",
    "\n",
    "\n",
    "def import_ctk_data_stratified(reverse_pairs=True):\n",
    "    labels = []\n",
    "    examples = []\n",
    "    for row in dataset:\n",
    "        claim = row[\"claim\"]\n",
    "        label = row[\n",
    "            \"label\"\n",
    "        ]  # (0 if row[\"label\"] == \"REFUTES\" else 1 if row[\"label\"] == \"SUPPORTS\" else 2)\n",
    "        for eset in row[\"evidence\"]:\n",
    "            #             assert len(eset) == 1 # for now only single document\n",
    "            evidence = \" \".join([ud.normalize(\"NFD\", detokenize2(ev)) for ev in eset])\n",
    "            texts = [ud.normalize(\"NFD\", claim), evidence]\n",
    "            if reverse_pairs:\n",
    "                texts.reverse()\n",
    "            if evidence.strip():\n",
    "                examples.append(texts)\n",
    "                labels.append(label)\n",
    "\n",
    "    trn_texts = [(r[0], r[1]) for r in examples]\n",
    "    trn_labels = labels\n",
    "\n",
    "    (\n",
    "        trn_texts,\n",
    "        tst_texts,\n",
    "        trn_labels,\n",
    "        tst_labels,\n",
    "    ) = sklearn.model_selection.train_test_split(\n",
    "        trn_texts, trn_labels, train_size=0.8, random_state=1234, stratify=trn_labels\n",
    "    )\n",
    "\n",
    "    (\n",
    "        trn_texts,\n",
    "        val_texts,\n",
    "        trn_labels,\n",
    "        val_labels,\n",
    "    ) = sklearn.model_selection.train_test_split(\n",
    "        trn_texts, trn_labels, train_size=0.83, random_state=1234, stratify=trn_labels\n",
    "    )\n",
    "\n",
    "    logger.info(Counter(trn_labels))\n",
    "    logger.info(Counter(val_labels))\n",
    "    logger.info(Counter(tst_labels))\n",
    "    return trn_texts, val_texts, tst_texts, trn_labels, val_labels, tst_labels\n",
    "\n",
    "\n",
    "def load_examples_from_nli_format():\n",
    "    def convert_to_examples(txts, labels):\n",
    "        examples = []\n",
    "        label2id = {\"REFUTES\": 1, \"SUPPORTS\": 0, \"NOT ENOUGH INFO\": 2}\n",
    "        for (evidence, claim), label in zip(txts, labels):\n",
    "            examples.append(\n",
    "                InputExample(\n",
    "                    texts=[ud.normalize(\"NFC\", evidence), ud.normalize(\"NFC\", claim)],\n",
    "                    label=label2id[label],\n",
    "                )\n",
    "            )\n",
    "        return examples\n",
    "\n",
    "    (\n",
    "        trn_texts,\n",
    "        val_texts,\n",
    "        tst_texts,\n",
    "        trn_labels,\n",
    "        val_labels,\n",
    "        tst_labels,\n",
    "    ) = import_ctk_data_stratified()\n",
    "    trn_examples = convert_to_examples(trn_texts, trn_labels)\n",
    "    tst_examples = convert_to_examples(tst_texts, tst_labels)\n",
    "    val_examples = convert_to_examples(val_texts, val_labels)\n",
    "    return trn_examples, tst_examples, val_examples"
   ]
  },
  {
   "cell_type": "code",
   "execution_count": 46,
   "id": "daf311f4-ce2c-4307-bb94-44b22772415c",
   "metadata": {},
   "outputs": [],
   "source": [
    "label2id = {\"REFUTES\": 1, \"SUPPORTS\": 0, \"NOT ENOUGH INFO\": 2}\n",
    "\n",
    "def load_examples_from_splits(folder):\n",
    "    examples = {}\n",
    "    for filename in (\"train\", \"test\", \"val\"):\n",
    "        with open(folder+\"/\"+filename+\".jsonl\",\"r\") as f:\n",
    "            examples[filename] = []\n",
    "            for line in f:\n",
    "                example = json.loads(line)\n",
    "                examples[filename].append(InputExample(\n",
    "                    texts = [ud.normalize(\"NFC\",\" \".join(example[\"evidence\"])), ud.normalize(\"NFC\",example[\"claim\"])],\n",
    "                    label = label2id[example[\"label\"]],\n",
    "                    guid = example[\"id\"]\n",
    "                ))\n",
    "    return examples[\"train\"], examples[\"test\"], examples[\"val\"]"
   ]
  },
  {
   "cell_type": "code",
   "execution_count": 48,
   "id": "0792d1a1-fed9-41c9-ac73-dc2fa89c1b30",
   "metadata": {},
   "outputs": [],
   "source": [
    "trn_examples, tst_examples, val_examples = load_examples_from_splits(\"ctkclean2\")"
   ]
  },
  {
   "cell_type": "code",
   "execution_count": 52,
   "id": "f0f123bd-2178-4d53-99e7-0ab10dd46d23",
   "metadata": {},
   "outputs": [
    {
     "data": {
      "text/plain": [
       "0"
      ]
     },
     "execution_count": 52,
     "metadata": {},
     "output_type": "execute_result"
    }
   ],
   "source": [
    "trn_examples[1].label"
   ]
  },
  {
   "cell_type": "code",
   "execution_count": 53,
   "id": "699ee188-e4ae-43c2-b688-83b84cc1d43c",
   "metadata": {},
   "outputs": [
    {
     "data": {
      "text/plain": [
       "'SUPPORTS'"
      ]
     },
     "execution_count": 53,
     "metadata": {},
     "output_type": "execute_result"
    }
   ],
   "source": [
    "trn_labels[1]"
   ]
  },
  {
   "cell_type": "code",
   "execution_count": 4,
   "id": "6e3d762e-a3e0-41c6-8b42-cd242b03b2bc",
   "metadata": {},
   "outputs": [],
   "source": [
    "trn_texts = []\n",
    "with open(\"export.jsonl\") as file:\n",
    "    for line in file:\n",
    "        trn_texts.append(json.loads(line))\n",
    "\n",
    "\n",
    "trn_labels = [datapoint[\"label\"] for datapoint in trn_texts]\n",
    "trn_texts, tst_texts, trn_labels, tst_labels = sklearn.model_selection.train_test_split(\n",
    "    trn_texts, trn_labels, train_size=0.8, random_state=1234, stratify=trn_labels\n",
    ")\n",
    "\n",
    "trn_texts, val_texts, trn_labels, val_labels = sklearn.model_selection.train_test_split(\n",
    "    trn_texts, trn_labels, train_size=0.83, random_state=1234, stratify=trn_labels\n",
    ")"
   ]
  },
  {
   "cell_type": "code",
   "execution_count": 11,
   "id": "d90bca96-3a0a-4c24-b0ea-b3b473e6c240",
   "metadata": {},
   "outputs": [],
   "source": [
    "tst_splits = [(None, None) for _ in range(10)]"
   ]
  },
  {
   "cell_type": "code",
   "execution_count": 5,
   "id": "5c3f2030-6e6f-4cd0-9c5f-d0688d88ef69",
   "metadata": {},
   "outputs": [
    {
     "ename": "NameError",
     "evalue": "name 'tst_splits' is not defined",
     "output_type": "error",
     "traceback": [
      "\u001B[0;31m---------------------------------------------------------------------------\u001B[0m",
      "\u001B[0;31mNameError\u001B[0m                                 Traceback (most recent call last)",
      "\u001B[0;32m<ipython-input-5-58fef5d25a8d>\u001B[0m in \u001B[0;36m<module>\u001B[0;34m\u001B[0m\n\u001B[0;32m----> 1\u001B[0;31m \u001B[0mtst_splits\u001B[0m\u001B[0;34m\u001B[0m\u001B[0;34m\u001B[0m\u001B[0m\n\u001B[0m",
      "\u001B[0;31mNameError\u001B[0m: name 'tst_splits' is not defined"
     ]
    }
   ],
   "source": [
    "tst_splits"
   ]
  },
  {
   "cell_type": "code",
   "execution_count": 6,
   "id": "bdc8d3c6-5f97-4ea8-91ca-1a154fe7ce28",
   "metadata": {},
   "outputs": [
    {
     "data": {
      "text/plain": [
       "(2009, 412, 606)"
      ]
     },
     "execution_count": 6,
     "metadata": {},
     "output_type": "execute_result"
    }
   ],
   "source": [
    "len(trn_texts), len(val_texts), len(tst_labels)"
   ]
  },
  {
   "cell_type": "code",
   "execution_count": 13,
   "id": "54e78e76-6ff9-49c0-b95c-7c9ad7e2bc02",
   "metadata": {},
   "outputs": [],
   "source": []
  },
  {
   "cell_type": "code",
   "execution_count": 14,
   "id": "ef90dba9-64e2-47d6-951e-e84b16dc2bbf",
   "metadata": {},
   "outputs": [
    {
     "data": {
      "text/plain": [
       "98"
      ]
     },
     "execution_count": 14,
     "metadata": {},
     "output_type": "execute_result"
    }
   ],
   "source": [
    "len(used_ids)"
   ]
  },
  {
   "cell_type": "code",
   "execution_count": 15,
   "id": "8da3704c-b86b-4b7c-ba4e-85fc733db05d",
   "metadata": {},
   "outputs": [],
   "source": [
    "for text in tst_texts:\n",
    "    used_ids.append(text[\"id\"])"
   ]
  },
  {
   "cell_type": "code",
   "execution_count": 16,
   "id": "0a90b712-bc37-40de-b156-27c02f8abe66",
   "metadata": {},
   "outputs": [
    {
     "data": {
      "text/plain": [
       "704"
      ]
     },
     "execution_count": 16,
     "metadata": {},
     "output_type": "execute_result"
    }
   ],
   "source": [
    "len(used_ids)"
   ]
  },
  {
   "cell_type": "code",
   "execution_count": 24,
   "id": "74176d27-b8c7-42dd-854c-9372a59855e4",
   "metadata": {},
   "outputs": [],
   "source": [
    "used_ids={39, 60, 69, 70, 71, 72, 82, 83, 89, 94, 115, 116, 126, 138, 139, 147, 149, 152, 153, 157, 159, 186, 197, 198, 202, 208, 209, 222, 226, 235, 237, 240, 243, 256, 260, 262, 263, 270, 274, 280, 283, 298, 326, 330, 349, 360, 367, 371, 373, 378, 383, 392, 394, 395, 400, 408, 411, 418, 419, 428, 429, 432, 433, 434, 441, 455, 457, 462, 472, 481, 484, 500, 505, 508, 518, 519, 521, 522, 536, 537, 542, 556, 558, 560, 570, 586, 598, 600, 605, 607, 610, 623, 624, 639, 647, 651, 657, 659, 661, 663, 666, 671, 675, 682, 687, 689, 713, 715, 720, 723, 733, 735, 737, 740, 750, 751, 756, 768, 769, 770, 779, 790, 792, 794, 795, 804, 818, 822, 824, 825, 828, 829, 833, 838, 878, 881, 908, 921, 922, 928, 957, 958, 967, 976, 982, 983, 989, 992, 997, 1006, 1008, 1029, 1037, 1041, 1043, 1071, 1072, 1074, 1080, 1088, 1095, 1106, 1107, 1115, 1116, 1125, 1126, 1138, 1139, 1140, 1144, 1148, 1149, 1158, 1160, 1162, 1163, 1170, 1174, 1177, 1189, 1190, 1199, 1204, 1215, 1220, 1228, 1235, 1239, 1243, 1246, 1259, 1261, 1270, 1274, 1297, 1306, 1313, 1315, 1338, 1350, 1353, 1361, 1362, 1365, 1366, 1379, 1382, 1388, 1396, 1399, 1400, 1410, 1411, 1413, 1423, 1444, 1446, 1447, 1453, 1504, 1505, 1522, 1534, 1541, 1542, 1543, 1554, 1556, 1570, 1574, 1578, 1599, 1610, 1623, 1624, 1630, 1632, 1634, 1651, 1663, 1671, 1676, 1677, 1683, 1691, 1695, 1720, 1723, 1724, 1732, 1733, 1739, 1744, 1751, 1755, 1761, 1762, 1769, 1779, 1807, 1817, 1818, 1821, 1825, 1830, 1834, 1835, 1839, 1850, 1856, 1862, 1876, 1897, 1898, 1900, 1906, 1927, 1939, 1942, 1944, 1952, 1955, 1956, 1966, 1970, 1971, 1973, 1975, 1981, 1983, 2006, 2015, 2016, 2060, 2067, 2071, 2083, 2092, 2093, 2094, 2097, 2100, 2107, 2112, 2120, 2122, 2123, 2126, 2129, 2142, 2152, 2165, 2167, 2171, 2173, 2187, 2195, 2197, 2204, 2218, 2229, 2233, 2234, 2239, 2242, 2254, 2272, 2275, 2291, 2295, 2298, 2318, 2324, 2334, 2365, 2372, 2375, 2378, 2383, 2389, 2394, 2397, 2405, 2410, 2418, 2425, 2443, 2452, 2453, 2462, 2466, 2469, 2494, 2497, 2498, 2516, 2525, 2538, 2544, 2549, 2550, 2558, 2569, 2573, 2578, 2584, 2585, 2597, 2608, 2613, 2618, 2621, 2627, 2628, 2632, 2646, 2658, 2666, 2672, 2676, 2678, 2680, 2687, 2688, 2695, 2703, 2710, 2711, 2715, 2716, 2717, 2719, 2721, 2725, 2730, 2737, 2742, 2744, 2753, 2754, 2766, 2769, 2770, 2775, 2776, 2777, 2778, 2786, 2796, 2806, 2810, 2834, 2846, 2847, 2852, 2858, 2890, 2891, 2900, 2902, 2903, 2907, 2915, 2923, 2932, 2935, 2938, 2951, 2980, 2993, 2994, 2996, 2997, 2999, 3000, 3005, 3006, 3011, 3012, 3013, 3032, 3053, 3063, 3069, 3070, 3071, 3073, 3075, 3076, 3093, 3095, 3097, 3105, 3108, 3110, 3112, 3114, 3118, 3124, 3125, 3131, 3139, 3158, 3159, 3161, 3164, 3168, 3174, 3178, 3181, 3205, 3211, 3214, 3225, 3233, 3234, 3235, 3237, 3238, 3247, 3255, 3256, 3273, 3277, 3278, 3285, 3286, 3288, 3289, 3290, 3296, 3302, 3304, 3305, 3306, 3310, 3311, 3321, 3338, 3351, 3354, 3365, 3379, 3382, 3388, 3393, 3400, 3403, 3421, 3423, 3441, 3445, 3450, 3458, 3471, 3487, 3494, 3500, 3501, 3523, 3529, 3530, 3541, 3544, 3549, 3552, 3553, 3559, 3567, 3569, 3570, 3572, 3575, 3576, 3584, 3585, 3591, 3602, 3605, 3609, 3615, 3620, 3621, 3633, 3638, 3649, 3676, 3677, 3687, 3703, 3704, 3705, 3707, 3717, 3718, 3720, 3721, 3727, 3738, 3740, 3744, 3745, 3747, 3748, 3759, 3764, 3769, 3779, 3782, 3798, 3823, 3824, 3831, 3833, 3844, 3845, 3852, 3855, 3856, 3874, 3876, 3889, 3892, 3912, 3936, 3940, 3943, 3956, 3959, 3965, 3985, 3993, 3996, 4004, 4012, 4029, 4034, 4049, 4064, 4076, 4081, 4084, 4093, 4098, 4102, 4110, 4112, 4118, 4129, 4139, 4141, 4148, 4154, 4182, 4194, 4209, 4227, 4236, 4256, 4258, 4261, 4265, 4269, 4270, 4272, 4276, 4277, 4280, 4281, 4282, 4283, 4284, 4285, 4288, 4306, 4310, 4313, 4326, 4327, 4329, 4331, 4332, 4338, 4343, 4346, 4353, 4355, 4364, 4367, 4368, 4380, 4383, 4394, 4396, 4402, 4404, 4407, 4409, 4414, 4416, 4419, 4421, 4426, 4438, 4440, 4442, 4447, 4449, 4451, 4455, 4457, 4459, 4465, 4466, 4469, 4474, 4476}"
   ]
  },
  {
   "cell_type": "code",
   "execution_count": 44,
   "id": "46f97044-cdf0-40ad-8fdf-1f81f3f49513",
   "metadata": {},
   "outputs": [
    {
     "name": "stdout",
     "output_type": "stream",
     "text": [
      "4555 4555\n"
     ]
    },
    {
     "data": {
      "text/plain": [
       "152"
      ]
     },
     "execution_count": 44,
     "metadata": {},
     "output_type": "execute_result"
    }
   ],
   "source": [
    "trn_texts = []\n",
    "with open(\"export_08-25-2021_1109pm_173.jsonl\") as file:\n",
    "    for line in file:\n",
    "        trn_texts.append(json.loads(line))\n",
    "\n",
    "\n",
    "trn_labels = [datapoint[\"label\"] for datapoint in trn_texts]\n",
    "print(len(trn_texts),len(trn_labels))\n",
    "rand_state = 1\n",
    "min_intersection, min_split = 50000, None\n",
    "for i in range(10000):\n",
    "    trn2_texts, tst_texts, trn2_labels, tst_labels = sklearn.model_selection.train_test_split(\n",
    "            trn_texts, trn_labels, train_size=0.89, random_state=hash(i), stratify=trn_labels\n",
    "    )\n",
    "    intersect = used_ids.intersection(set(datapoint[\"id\"] for datapoint in tst_texts))\n",
    "    if (len(intersect) < min_intersection):\n",
    "        min_intersection, min_split = len(intersect), (trn2_texts, tst_texts, trn2_labels, tst_labels)\n",
    "        \n",
    "trn_texts, tst_texts, trn_labels, tst_labes = min_split\n",
    "\n",
    "trn_texts, val_texts, trn_labels, val_labels = sklearn.model_selection.train_test_split(\n",
    "        trn_texts, trn_labels, train_size=0.87, random_state=1234, stratify=trn_labels\n",
    ")\n",
    "min_intersection"
   ]
  },
  {
   "cell_type": "code",
   "execution_count": 42,
   "id": "e578dff3-63f9-4409-a7e3-00626bf85c91",
   "metadata": {},
   "outputs": [
    {
     "name": "stdout",
     "output_type": "stream",
     "text": [
      "1071\n",
      "4098,4099,4102,7,2058,2060,4110,4112,4114,2067,4118,2071,28,29,4126,4129,2083,39,4137,4139,2092,2093,2094,4141,4140,2097,2091,2100,4148,4149,4153,4154,2107,60,2112,4160,66,2114,67,69,70,71,72,2120,2122,2123,4170,4173,2126,79,2129,82,83,4182,87,89,94,2142,2143,2145,4194,2152,4202,2154,108,4209,115,116,2165,2167,4216,4217,122,2171,2173,126,4223,2177,4227,134,135,138,139,2187,4236,140,146,147,2195,149,2197,152,153,154,4251,2204,157,4254,159,4256,2207,4258,161,4261,4265,2218,4266,170,4269,4270,4271,4272,4276,2229,4277,2228,4280,2233,186,2234,4281,4282,4283,2239,4284,4285,2242,4288,4289,197,198,2238,196,200,202,201,4294,2254,208,209,4306,4304,2259,2261,4310,2257,4311,4313,2266,222,2272,225,226,2275,4326,4327,4329,234,235,4331,237,4332,236,240,2281,4338,243,2291,239,4342,2295,4343,2296,2298,4346,2303,256,4353,4355,260,2309,262,263,264,4363,4364,270,2318,4367,4368,274,2323,2324,276,280,282,283,4380,2334,4383,2337,4386,291,4389,4392,298,4394,4396,300,301,4402,4403,4404,4407,4409,2363,4412,2365,4414,4416,4419,2372,4421,326,2375,2374,330,2378,4426,2379,2382,2383,333,337,2385,2388,2389,4438,2390,4440,4437,2394,4442,340,349,2397,4447,352,4449,350,4451,2405,358,4455,360,4457,2410,4459,2407,4456,2412,367,368,4465,2418,371,4466,373,4469,4463,2421,2425,378,4474,4476,2430,383,385,2433,2438,392,394,395,2443,2442,400,2449,2451,2452,2453,408,409,2456,411,2459,412,2462,2463,2461,418,419,2466,2469,2474,428,429,432,433,434,436,437,441,444,2494,2497,2498,451,450,455,2503,457,462,463,2516,469,472,2520,2521,2525,481,2530,483,484,487,2538,2544,500,2549,2550,505,506,508,2558,2559,510,514,518,519,520,521,522,2569,2571,2573,2578,534,2583,536,537,2584,2585,2587,542,545,546,2595,2596,2597,2600,556,558,2607,560,2608,2613,570,2618,571,2621,574,2625,2627,2628,582,2632,585,586,2635,598,2646,600,605,607,610,2658,2659,616,2664,2666,623,624,2672,2676,2678,2679,2680,634,639,2687,2688,647,2695,651,653,2703,657,659,661,2710,663,2711,666,2715,2716,2717,671,2719,2721,675,2725,682,2730,684,687,689,2737,690,2742,2743,2744,2753,2754,711,2759,713,2761,715,2766,2767,720,2769,2770,723,725,2775,2776,2777,2778,730,729,733,735,737,2786,740,741,2792,2795,2796,2797,750,751,756,2806,2810,768,769,770,2819,779,780,2829,2834,790,792,794,795,2842,2846,2847,804,2852,2858,818,820,822,823,824,825,828,829,2877,833,838,2890,2891,2900,2902,2903,2907,2908,860,2915,2917,2921,874,2923,2925,878,881,882,2932,886,2935,889,2938,895,897,2945,2951,904,2954,908,2957,912,2961,2966,921,922,923,2972,928,2979,2980,185,2983,940,187,942,2993,2994,2995,2996,2997,950,2999,3000,947,957,958,3005,3006,960,3011,3012,3013,967,3018,3022,3023,976,3029,982,983,3032,3034,989,2232,992,997,3052,3053,1006,3055,1008,3059,3062,3063,1016,1019,3069,3070,3071,1024,3073,3074,3075,3076,1029,1034,1037,3087,1041,1042,1043,3091,3093,3095,3097,3098,1052,3101,3100,3103,3105,3108,3110,3111,3112,3114,3118,1071,1072,1074,3124,3125,1080,3131,4286,1084,3134,1088,3139,1095,3143,1106,1107,3158,3159,3161,1115,1116,3164,3168,1125,1126,3174,3178,3180,3181,1138,1139,1140,1141,1142,1144,1148,1149,3197,1150,1155,3205,1158,1160,1162,1163,3211,3212,3214,3217,1170,3219,1174,1177,3225,1178,1181,3232,3233,3234,3235,1189,1190,3237,3238,1191,3246,1199,3247,1204,3252,1206,3255,3256,1212,3261,1215,3266,1220,3273,1226,1225,1228,3277,3278,3276,1233,1235,3285,3286,1239,3288,3289,3290,1243,3292,3291,1246,3295,3296,1248,3302,3304,3305,3306,1259,3308,1261,3310,3311,3312,1268,1270,3320,3321,1274,1278,3327,1284,3338,1297,3345,3347,3350,3351,1304,3352,1306,3354,3358,1313,1315,1316,3365,3373,3379,3381,3382,1338,3386,3388,3387,3391,1344,3393,1346,3392,1350,3399,3400,1353,3398,3403,1352,1359,1361,1362,1365,1366,3413,3415,1367,3421,3423,1379,1382,1385,1388,3441,3442,1395,1396,3445,3444,1399,1400,1397,3450,1409,1410,1411,3458,1413,3459,1414,1423,3471,3476,3478,3487,1442,1444,1446,1447,3494,1451,3500,1453,3501,3523,1475,1476,3529,3530,1488,3541,3542,3544,3545,3548,3549,1504,1505,3552,3553,1508,1509,1510,3559,1511,1512,3564,3567,3569,1522,3570,3572,1523,1525,3575,3576,1521,3581,1534,3584,3585,3588,1541,1542,1543,3591,1547,3598,1554,3602,1556,3605,3603,3609,3610,1565,3615,1568,1567,1570,3620,3621,1574,1575,1578,3631,3633,3638,1593,1597,1599,3649,3652,3654,1610,1612,1623,1624,3676,3677,1630,1632,1634,3687,1639,3688,1651,3703,3704,3705,1655,3707,1660,1663,1666,3717,3718,1671,3720,3721,1676,1677,3727,1683,3738,1691,3740,1695,3744,3745,3747,3748,1704,3755,1707,3759,3764,1720,3769,1723,1724,3775,3779,1732,1733,3782,3781,1739,1744,3798,1751,1752,1755,3806,3808,1761,1762,3812,1769,1772,3821,3820,3823,3824,1779,3831,1784,3833,1783,3837,3839,1794,1795,3844,3845,357,3850,3852,1804,1807,3855,3856,3857,1817,1818,1821,1825,3874,3875,3876,3877,1830,1828,3878,1833,1834,1835,365,1839,3889,3892,1850,1851,1853,1856,1857,1862,3912,1873,3923,1876,1878,3936,3940,3942,3943,1897,1898,1900,1906,3955,3956,3959,3962,1916,3965,1924,1927,1930,3985,1939,1942,1944,3993,3996,1952,1955,1956,4004,1957,4003,4010,4012,1966,1968,1970,1971,4462,1973,1975,1981,4029,1983,4034,4039,4040,1993,4042,4044,4049,2005,2006,4055,2008,4061,2015,2016,4064,4066,2024,4076,2031,4081,4084,2039,4093\n"
     ]
    }
   ],
   "source": [
    "for datapoint in tst_texts:\n",
    "    used_ids.add(datapoint[\"id\"])\n",
    "print(len(used_ids))\n",
    "print(\",\".join(str(idd) for idd in used_ids))"
   ]
  },
  {
   "cell_type": "code",
   "execution_count": 34,
   "id": "75a8c38c-5368-4daa-b353-3a13cae940a4",
   "metadata": {},
   "outputs": [
    {
     "data": {
      "text/plain": [
       "82"
      ]
     },
     "execution_count": 34,
     "metadata": {},
     "output_type": "execute_result"
    }
   ],
   "source": [
    "min_intersection"
   ]
  },
  {
   "cell_type": "code",
   "execution_count": 45,
   "id": "74e72788-73e3-4337-8f18-40c7e44cb257",
   "metadata": {},
   "outputs": [],
   "source": [
    "with open(\"ctkclean2/train.jsonl\", \"w\") as t, open(\"ctkclean2/val.jsonl\", \"w\") as v, open(\n",
    "    \"ctkclean2/test.jsonl\", \"w\"\n",
    ") as ts:\n",
    "    for (fi, ex) in [(t, trn_texts), (v, val_texts), (ts, tst_texts)]:\n",
    "        for e in ex:\n",
    "            print(json.dumps(e, ensure_ascii=False), file=fi)"
   ]
  },
  {
   "cell_type": "code",
   "execution_count": 5,
   "id": "a444fffa-5f31-4998-8cbe-31ce8dd0244a",
   "metadata": {},
   "outputs": [
    {
     "ename": "NameError",
     "evalue": "name 'labels' is not defined",
     "output_type": "error",
     "traceback": [
      "\u001B[0;31m---------------------------------------------------------------------------\u001B[0m",
      "\u001B[0;31mNameError\u001B[0m                                 Traceback (most recent call last)",
      "\u001B[0;32m<ipython-input-5-0a1df294b701>\u001B[0m in \u001B[0;36m<module>\u001B[0;34m\u001B[0m\n\u001B[0;32m----> 1\u001B[0;31m \u001B[0mlabels\u001B[0m\u001B[0;34m\u001B[0m\u001B[0;34m\u001B[0m\u001B[0m\n\u001B[0m",
      "\u001B[0;31mNameError\u001B[0m: name 'labels' is not defined"
     ]
    }
   ],
   "source": [
    "labels"
   ]
  },
  {
   "cell_type": "code",
   "execution_count": null,
   "id": "7f256363-8e84-460b-b026-647b460fb6ea",
   "metadata": {},
   "outputs": [],
   "source": [
    "2021-07-28 18:02:01,696 - root:21 - INFO - TRN: Counter({'SUPPORTS': 1058, 'REFUTES': 502, 'NEI': 245})\n",
    "2021-07-28 18:02:01,698 - root:23 - INFO - TST: Counter({'SUPPORTS': 395, 'REFUTES': 200, 'NEI': 89})\n",
    "2021-07-28 18:02:01,699 - root:25 - INFO - VAL: Counter({'SUPPORTS': 311, 'REFUTES': 145, 'NEI': 68})"
   ]
  },
  {
   "cell_type": "code",
   "execution_count": 19,
   "id": "81f77494-a16d-42d5-98a4-04b52c7dbf27",
   "metadata": {},
   "outputs": [
    {
     "data": {
      "text/plain": [
       "['Kyjev 14. srpna (ČTK) - Odvolací soud v Kyjevě dnes propustil na svobodu vězněného ukrajinského exministra obrany Valerije Ivaščenka, když jeho pětiletý trest vězení změnil na roční podmínku. Bývalý člen vlády někdejší premiérky Julije Tymošenkové byl letos v dubnu odsouzen za zneužití pravomocí. Soud dnes přihlédl k tomu, že odsouzený částečně přiznal vinu.',\n",
       " 'Ivaščenko spolupracoval s Julijí Tymošenkovéóu.']"
      ]
     },
     "execution_count": 19,
     "metadata": {},
     "output_type": "execute_result"
    }
   ],
   "source": [
    "trn_examples[3].texts"
   ]
  },
  {
   "cell_type": "code",
   "execution_count": 4,
   "id": "f42c194d-06d4-456a-bf20-a824cc058602",
   "metadata": {
    "tags": []
   },
   "outputs": [
    {
     "name": "stderr",
     "output_type": "stream",
     "text": [
      "2021-07-28 17:53:21,885 - utils.dbcache:26 - INFO - reading database to RAM\n",
      "2021-07-28 17:53:21,886 - utils.dbcache:27 - INFO - excluding keywords: ['souhrn', 'sport', 'kolo', 'fotbal', 'hokej', 'volejbal', 'atletika', 'lyžování', 'cyklistika', 'tenis', 'stolní tenis', 'olympijské', 'avízo', 'tabulka', 'upozornění', 'protext', 'deník', 'basketbal']\n",
      "2021-07-28 17:54:29,832 - utils.dbcache:37 - INFO - processing total 15032152 rows\n",
      "100%|██████████| 15032152/15032152 [03:12<00:00, 77972.07it/s]\n",
      "2021-07-28 17:58:44,440 - utils.dbcache:73 - INFO - blocks imported: 11134727, excluded based on keywords: 3897425\n"
     ]
    }
   ],
   "source": [
    "log_fmt = \"%(asctime)s - %(name)s:%(lineno)d - %(levelname)s - %(message)s\"\n",
    "logging.basicConfig(level=logging.INFO, format=log_fmt)\n",
    "\n",
    "fdir = \"/mnt/data/factcheck/CTK/par4\"\n",
    "# db_name = pjoin(fdir, \"interim/ctk_filtered10000.db\")\n",
    "db_name = pjoin(fdir, \"interim/ctk_filtered.db\")\n",
    "excludekw = \"souhrn;sport;kolo;fotbal;hokej;Volejbal;Atletika;Lyžování;Cyklistika;Tenis;stolní tenis;Olympijské;AVÍZO;TABULKA;UPOZORNĚNÍ;PROTEXT;Deník\"\n",
    "excludekw2 = \"basketbal\"\n",
    "db = DBCache(db_name, excludekw=excludekw + \";\" + excludekw2)"
   ]
  },
  {
   "cell_type": "code",
   "execution_count": 5,
   "id": "e12348ef-f30f-4311-b675-79bae8a3af2e",
   "metadata": {},
   "outputs": [
    {
     "data": {
      "text/plain": [
       "<utils.dbcache.DBCache at 0x7f0b63575b50>"
      ]
     },
     "execution_count": 5,
     "metadata": {},
     "output_type": "execute_result"
    }
   ],
   "source": [
    "db"
   ]
  },
  {
   "cell_type": "code",
   "execution_count": 13,
   "id": "7326333e-f981-4d21-96a2-bb2e343f00a2",
   "metadata": {},
   "outputs": [],
   "source": [
    "logger = logging.getLogger()\n",
    "fh = logging.FileHandler(\n",
    "    \"logs/utery.log\",\n",
    ")\n",
    "fh.setLevel(logging.INFO)\n",
    "fh.setFormatter(\n",
    "    logging.Formatter(\"%(asctime)s - %(name)s:%(lineno)d - %(levelname)s - %(message)s\")\n",
    ")\n",
    "logger.addHandler(fh)\n",
    "logging.info(\"Hello world\")"
   ]
  },
  {
   "cell_type": "code",
   "execution_count": 7,
   "id": "48b21564-4d1d-4764-b4fb-42fe76c1207f",
   "metadata": {},
   "outputs": [
    {
     "name": "stderr",
     "output_type": "stream",
     "text": [
      "2021-07-28 18:01:35,450 - models.rte:48 - WARNING - # claims imported: 3374\n",
      "2021-07-28 18:01:35,452 - models.rte:51 - WARNING -  soft deleted: 101\n",
      "2021-07-28 18:01:37,793 - models.rte:76 - WARNING - # of claims having conflicting labels: 720\n",
      "2021-07-28 18:01:46,209 - models.rte:81 - WARNING - blockdict size: 82846\n",
      "2021-07-28 18:01:46,920 - models.rte:87 - WARNING - claims: 3273, unique: 3273\n",
      "2021-07-28 18:01:48,650 - models.rte:132 - WARNING - warning evidence set empty for: 156\n",
      "2021-07-28 18:01:48,659 - models.rte:132 - WARNING - warning evidence set empty for: 484\n",
      "2021-07-28 18:01:48,666 - models.rte:132 - WARNING - warning evidence set empty for: 824\n",
      "2021-07-28 18:01:48,667 - models.rte:132 - WARNING - warning evidence set empty for: 863\n",
      "2021-07-28 18:01:48,667 - models.rte:132 - WARNING - warning evidence set empty for: 887\n",
      "2021-07-28 18:01:48,670 - models.rte:132 - WARNING - warning evidence set empty for: 1300\n",
      "2021-07-28 18:01:48,671 - models.rte:132 - WARNING - warning evidence set empty for: 1343\n",
      "2021-07-28 18:01:48,673 - models.rte:132 - WARNING - warning evidence set empty for: 1571\n",
      "2021-07-28 18:01:48,674 - models.rte:132 - WARNING - warning evidence set empty for: 1623\n",
      "2021-07-28 18:01:48,677 - models.rte:132 - WARNING - warning evidence set empty for: 2463\n",
      "2021-07-28 18:01:48,690 - models.rte:132 - WARNING - warning evidence set empty for: 6348\n",
      "2021-07-28 18:01:48,717 - models.rte:48 - WARNING - # claims imported: 3374\n",
      "2021-07-28 18:01:48,719 - models.rte:51 - WARNING -  soft deleted: 101\n",
      "2021-07-28 18:01:50,384 - models.rte:76 - WARNING - # of claims having conflicting labels: 720\n",
      "2021-07-28 18:01:58,944 - models.rte:81 - WARNING - blockdict size: 82846\n",
      "2021-07-28 18:01:59,764 - models.rte:87 - WARNING - claims: 3273, unique: 3273\n",
      "2021-07-28 18:02:01,658 - models.rte:160 - INFO - round_cnt 608 -> new round 1\n",
      "2021-07-28 18:02:01,665 - models.rte:160 - INFO - round_cnt 585 -> new round 2\n",
      "2021-07-28 18:02:01,671 - models.rte:160 - INFO - round_cnt 516 -> new round 3\n",
      "2021-07-28 18:02:01,675 - models.rte:160 - INFO - round_cnt 389 -> new round 4\n",
      "2021-07-28 18:02:01,678 - models.rte:160 - INFO - round_cnt 68 -> new round 5\n",
      "2021-07-28 18:02:01,682 - root:13 - INFO - dataset1 size: 2387\n",
      "2021-07-28 18:02:01,696 - root:21 - INFO - TRN: Counter({'SUPPORTS': 1058, 'REFUTES': 502, 'NEI': 245})\n",
      "2021-07-28 18:02:01,698 - root:23 - INFO - TST: Counter({'SUPPORTS': 395, 'REFUTES': 200, 'NEI': 89})\n",
      "2021-07-28 18:02:01,699 - root:25 - INFO - VAL: Counter({'SUPPORTS': 311, 'REFUTES': 145, 'NEI': 68})\n"
     ]
    },
    {
     "name": "stdout",
     "output_type": "stream",
     "text": [
      "original pararagraphs #, TRN: 169, TST: 54, VAL: 43\n"
     ]
    }
   ],
   "source": [
    "def load_examples_from_raw_csvs():\n",
    "    # dict_dataset_base = import_csv_dataset(\"/mnt/data/factcheck/CTK/par4-dec2020-annotations_drchajan/raw\")\n",
    "    # dict_dataset_nei = import_csv_dataset_nei(\"/mnt/data/factcheck/CTK/par4-dec2020-annotations_drchajan/raw\", 336)\n",
    "\n",
    "    dict_dataset_base = import_csv_dataset(\n",
    "        \"/mnt/data/factcheck/CTK/par4-may2021-annotations_drchajan/raw\"\n",
    "    )\n",
    "    dict_dataset_nei = import_csv_dataset_nei(\n",
    "        \"/mnt/data/factcheck/CTK/par4-may2021-annotations_drchajan/raw\", 2175\n",
    "    )\n",
    "\n",
    "    dataset1 = list({**dict_dataset_base, **dict_dataset_nei}.values())\n",
    "    logger.info(f\"dataset1 size: {len(dataset1)}\")\n",
    "\n",
    "    rng = np.random.RandomState(1234)\n",
    "    dataset1_trn, dataset1_tst, dataset1_val = create_splits(\n",
    "        unique_evidence(dataset1), rng\n",
    "    )\n",
    "\n",
    "    dataset2_trn = split_evidence_sets(dataset1_trn)\n",
    "    logger.info(f'TRN: {Counter([s[\"label\"] for s in dataset2_trn])}')\n",
    "    dataset2_tst = split_evidence_sets(dataset1_tst)\n",
    "    logger.info(f'TST: {Counter([s[\"label\"] for s in dataset2_tst])}')\n",
    "    dataset2_val = split_evidence_sets(dataset1_val)\n",
    "    logger.info(f'VAL: {Counter([s[\"label\"] for s in dataset2_val])}')\n",
    "\n",
    "    reverse_pairs = True\n",
    "    trn_examples = convert_to_sentence_pairs(\n",
    "        db, dataset2_trn, reverse_pairs=reverse_pairs\n",
    "    )\n",
    "    tst_examples = convert_to_sentence_pairs(\n",
    "        db, dataset2_tst, reverse_pairs=reverse_pairs\n",
    "    )\n",
    "    val_examples = convert_to_sentence_pairs(\n",
    "        db, dataset2_val, reverse_pairs=reverse_pairs\n",
    "    )\n",
    "\n",
    "    return trn_examples, tst_examples, val_examples\n",
    "\n",
    "\n",
    "def load_examples_from_nli_format():\n",
    "    def convert_to_examples(txts, labels):\n",
    "        examples = []\n",
    "        label2id = {\"REFUTES\": 1, \"SUPPORTS\": 0, \"NOT ENOUGH INFO\": 2}\n",
    "        for (evidence, claim), label in zip(txts, labels):\n",
    "            examples.append(\n",
    "                InputExample(\n",
    "                    texts=[ud.normalize(\"NFC\", evidence), ud.normalize(\"NFC\", claim)],\n",
    "                    label=label2id[label],\n",
    "                )\n",
    "            )\n",
    "        return examples\n",
    "\n",
    "    (\n",
    "        trn_texts,\n",
    "        val_texts,\n",
    "        tst_texts,\n",
    "        trn_labels,\n",
    "        val_labels,\n",
    "        tst_labels,\n",
    "    ) = import_nli_ctk(datadir=\"/mnt/data/factcheck/CTK/dataset/v2.1nli/nfc\")\n",
    "    trn_examples = convert_to_examples(trn_texts, trn_labels)\n",
    "    tst_examples = convert_to_examples(tst_texts, tst_labels)\n",
    "    val_examples = convert_to_examples(val_texts, val_labels)\n",
    "    return trn_examples, tst_examples, val_examples\n",
    "\n",
    "\n",
    "# trn_examples, tst_examples, val_examples = load_examples_from_raw_csvs()\n",
    "trn_examples2, tst_examples2, val_examples2 = load_examples_from_raw_csvs()"
   ]
  },
  {
   "cell_type": "code",
   "execution_count": 11,
   "id": "2c852a2c-ef1b-4fb1-b984-5af01ab276d9",
   "metadata": {},
   "outputs": [
    {
     "data": {
      "text/plain": [
       "(['Jedním ze čtveřice vítězů, kteří titul Young Architect Award 2011 letos získali, byla například Ida Čapounová, která navrhla urbanistická řešení pro český venkov, konkrétně pro benešovský Měchnov. Další z laureátů, mladý architekt Jakub Jílek, se věnoval řece Vltavě v české metropoli, architektka Pavlína Macháčková a Klára Makovcová ze studia MMM Architekti pak zpracovaly studii týkající se zemědělského učiliště. Jediným zahraničním autorem mezi vítězi pak je slovinská architektka Polonca Kastelicová, která navrhla revitalizaci hlavního náměstí v jedné ze slovinských obcí.',\n",
       "  'Ida Čapounová prohrála v soutěži Young Architect Award.'],\n",
       " ['Podle Punčocháře je mýtem, že kdyby bylo více vody ve vodním profilu, tak se zajistí plnění nádrží i průtoky řek. Podle něj je v ČR kolem 165 nádrží s objemem 3360 milionů metrů krychlových s plochou hladiny 30.000 hektarů. V rybnících, kterých je zhruba 23.000, je pak 500 milionů metrů krychlových, tedy násobně méně. Ale jejich plocha je 51.000 hektarů, jsou tak více prohřáté a mají větší odpar než velké nádrže.',\n",
       "  'Rybníky v ČR udržují více vody než vodní nádrže.'],\n",
       " 896,\n",
       " 684)"
      ]
     },
     "execution_count": 11,
     "metadata": {},
     "output_type": "execute_result"
    }
   ],
   "source": [
    "trn_examples[0].texts, trn_examples2[0].texts, len(tst_examples), len(tst_examples2)"
   ]
  },
  {
   "cell_type": "code",
   "execution_count": null,
   "id": "b7b878ef-d5b8-4bf3-87ef-cab2a0adfbb2",
   "metadata": {},
   "outputs": [],
   "source": [
    "bert_name = (\n",
    "    bert_name_short\n",
    ") = \"deepset/xlm-roberta-large-squad2\"  # \"DeepPavlov/bert-base-multilingual-cased-sentence\" #\"bert-base-multilingual-cased\"  # \"deepset/xlm-roberta-large-squad2\"\n",
    "max_length = None\n",
    "batch_size = 5\n",
    "num_epochs = 30\n",
    "post = \"\"\n",
    "model_name = f\"{bert_name_short}_bs{batch_size}{post}\"\n",
    "output_path = pjoin(\"FINAL_MODELS\", model_name)"
   ]
  },
  {
   "cell_type": "code",
   "execution_count": null,
   "id": "713127df-feb7-47ca-84bf-14d712b64a40",
   "metadata": {},
   "outputs": [],
   "source": [
    "os.makedirs(output_path, exist_ok=True)"
   ]
  },
  {
   "cell_type": "code",
   "execution_count": 54,
   "id": "15353369-b4a3-4d2c-bb8f-120fd946b0e8",
   "metadata": {},
   "outputs": [],
   "source": [
    "evals = {}"
   ]
  },
  {
   "cell_type": "code",
   "execution_count": 9,
   "id": "767f7063-6097-4422-978b-b29bc31c5c1b",
   "metadata": {},
   "outputs": [],
   "source": [
    "evals[output_path] = tst_evaluator(model, output_path=output_path)"
   ]
  },
  {
   "cell_type": "code",
   "execution_count": 56,
   "id": "e804f8b8-ffcd-47a3-b62b-c2828be62696",
   "metadata": {},
   "outputs": [
    {
     "name": "stderr",
     "output_type": "stream",
     "text": [
      "Some weights of the model checkpoint at deepset/xlm-roberta-large-squad2 were not used when initializing XLMRobertaForSequenceClassification: ['qa_outputs.weight', 'qa_outputs.bias', 'roberta.pooler.dense.weight', 'roberta.pooler.dense.bias']\n",
      "- This IS expected if you are initializing XLMRobertaForSequenceClassification from the checkpoint of a model trained on another task or with another architecture (e.g. initializing a BertForSequenceClassification model from a BertForPreTraining model).\n",
      "- This IS NOT expected if you are initializing XLMRobertaForSequenceClassification from the checkpoint of a model that you expect to be exactly identical (initializing a BertForSequenceClassification model from a BertForSequenceClassification model).\n",
      "Some weights of XLMRobertaForSequenceClassification were not initialized from the model checkpoint at deepset/xlm-roberta-large-squad2 and are newly initialized: ['classifier.dense.weight', 'classifier.dense.bias', 'classifier.out_proj.weight', 'classifier.out_proj.bias']\n",
      "You should probably TRAIN this model on a down-stream task to be able to use it for predictions and inference.\n"
     ]
    },
    {
     "data": {
      "application/vnd.jupyter.widget-view+json": {
       "model_id": "c609efba2e0f48729df7962e8657d246",
       "version_major": 2,
       "version_minor": 0
      },
      "text/plain": [
       "HBox(children=(FloatProgress(value=0.0, description='Epoch', max=30.0, style=ProgressStyle(description_width='…"
      ]
     },
     "metadata": {},
     "output_type": "display_data"
    },
    {
     "data": {
      "application/vnd.jupyter.widget-view+json": {
       "model_id": "2c535e29a34743928dc48808cd3bd54f",
       "version_major": 2,
       "version_minor": 0
      },
      "text/plain": [
       "HBox(children=(FloatProgress(value=0.0, description='Iteration', max=1763.0, style=ProgressStyle(description_w…"
      ]
     },
     "metadata": {},
     "output_type": "display_data"
    },
    {
     "name": "stdout",
     "output_type": "stream",
     "text": [
      "\n"
     ]
    },
    {
     "data": {
      "application/vnd.jupyter.widget-view+json": {
       "model_id": "65a4fa2a77244c599968e1b1b86b48d0",
       "version_major": 2,
       "version_minor": 0
      },
      "text/plain": [
       "HBox(children=(FloatProgress(value=0.0, description='Iteration', max=1763.0, style=ProgressStyle(description_w…"
      ]
     },
     "metadata": {},
     "output_type": "display_data"
    },
    {
     "name": "stdout",
     "output_type": "stream",
     "text": [
      "\n"
     ]
    },
    {
     "data": {
      "application/vnd.jupyter.widget-view+json": {
       "model_id": "7ee607a0668c44cab28cd9a62aad5eb0",
       "version_major": 2,
       "version_minor": 0
      },
      "text/plain": [
       "HBox(children=(FloatProgress(value=0.0, description='Iteration', max=1763.0, style=ProgressStyle(description_w…"
      ]
     },
     "metadata": {},
     "output_type": "display_data"
    },
    {
     "name": "stdout",
     "output_type": "stream",
     "text": [
      "\n"
     ]
    },
    {
     "data": {
      "application/vnd.jupyter.widget-view+json": {
       "model_id": "9825120b158d4a8bad8b23dfc8762028",
       "version_major": 2,
       "version_minor": 0
      },
      "text/plain": [
       "HBox(children=(FloatProgress(value=0.0, description='Iteration', max=1763.0, style=ProgressStyle(description_w…"
      ]
     },
     "metadata": {},
     "output_type": "display_data"
    },
    {
     "name": "stdout",
     "output_type": "stream",
     "text": [
      "\n"
     ]
    },
    {
     "data": {
      "application/vnd.jupyter.widget-view+json": {
       "model_id": "cfd50451c9fe42d0ab865b73ed5ac316",
       "version_major": 2,
       "version_minor": 0
      },
      "text/plain": [
       "HBox(children=(FloatProgress(value=0.0, description='Iteration', max=1763.0, style=ProgressStyle(description_w…"
      ]
     },
     "metadata": {},
     "output_type": "display_data"
    },
    {
     "name": "stdout",
     "output_type": "stream",
     "text": [
      "\n"
     ]
    },
    {
     "data": {
      "application/vnd.jupyter.widget-view+json": {
       "model_id": "da33dfa559da4ed5adef4f7fbd93357e",
       "version_major": 2,
       "version_minor": 0
      },
      "text/plain": [
       "HBox(children=(FloatProgress(value=0.0, description='Iteration', max=1763.0, style=ProgressStyle(description_w…"
      ]
     },
     "metadata": {},
     "output_type": "display_data"
    },
    {
     "name": "stdout",
     "output_type": "stream",
     "text": [
      "\n"
     ]
    },
    {
     "data": {
      "application/vnd.jupyter.widget-view+json": {
       "model_id": "b1dfcd6635cb4fa085002a6cf8213ea5",
       "version_major": 2,
       "version_minor": 0
      },
      "text/plain": [
       "HBox(children=(FloatProgress(value=0.0, description='Iteration', max=1763.0, style=ProgressStyle(description_w…"
      ]
     },
     "metadata": {},
     "output_type": "display_data"
    },
    {
     "name": "stdout",
     "output_type": "stream",
     "text": [
      "\n"
     ]
    },
    {
     "data": {
      "application/vnd.jupyter.widget-view+json": {
       "model_id": "42b769ea3e8d481783acfbe06d6bbfbc",
       "version_major": 2,
       "version_minor": 0
      },
      "text/plain": [
       "HBox(children=(FloatProgress(value=0.0, description='Iteration', max=1763.0, style=ProgressStyle(description_w…"
      ]
     },
     "metadata": {},
     "output_type": "display_data"
    },
    {
     "name": "stdout",
     "output_type": "stream",
     "text": [
      "\n"
     ]
    },
    {
     "data": {
      "application/vnd.jupyter.widget-view+json": {
       "model_id": "db8dd690153c4a7fb5db903ac5ef97d8",
       "version_major": 2,
       "version_minor": 0
      },
      "text/plain": [
       "HBox(children=(FloatProgress(value=0.0, description='Iteration', max=1763.0, style=ProgressStyle(description_w…"
      ]
     },
     "metadata": {},
     "output_type": "display_data"
    },
    {
     "name": "stdout",
     "output_type": "stream",
     "text": [
      "\n"
     ]
    },
    {
     "data": {
      "application/vnd.jupyter.widget-view+json": {
       "model_id": "884d96aab86e46c18cde079cb99d2afd",
       "version_major": 2,
       "version_minor": 0
      },
      "text/plain": [
       "HBox(children=(FloatProgress(value=0.0, description='Iteration', max=1763.0, style=ProgressStyle(description_w…"
      ]
     },
     "metadata": {},
     "output_type": "display_data"
    },
    {
     "name": "stdout",
     "output_type": "stream",
     "text": [
      "\n"
     ]
    },
    {
     "data": {
      "application/vnd.jupyter.widget-view+json": {
       "model_id": "e659dead63514e3d9934eeb792416c14",
       "version_major": 2,
       "version_minor": 0
      },
      "text/plain": [
       "HBox(children=(FloatProgress(value=0.0, description='Iteration', max=1763.0, style=ProgressStyle(description_w…"
      ]
     },
     "metadata": {},
     "output_type": "display_data"
    },
    {
     "name": "stdout",
     "output_type": "stream",
     "text": [
      "\n"
     ]
    },
    {
     "data": {
      "application/vnd.jupyter.widget-view+json": {
       "model_id": "c58d3a46b26247c1b9743a7259cddf65",
       "version_major": 2,
       "version_minor": 0
      },
      "text/plain": [
       "HBox(children=(FloatProgress(value=0.0, description='Iteration', max=1763.0, style=ProgressStyle(description_w…"
      ]
     },
     "metadata": {},
     "output_type": "display_data"
    },
    {
     "name": "stdout",
     "output_type": "stream",
     "text": [
      "\n"
     ]
    },
    {
     "data": {
      "application/vnd.jupyter.widget-view+json": {
       "model_id": "bdcf8df4409a4f33959cb2003d403bf4",
       "version_major": 2,
       "version_minor": 0
      },
      "text/plain": [
       "HBox(children=(FloatProgress(value=0.0, description='Iteration', max=1763.0, style=ProgressStyle(description_w…"
      ]
     },
     "metadata": {},
     "output_type": "display_data"
    },
    {
     "name": "stdout",
     "output_type": "stream",
     "text": [
      "\n"
     ]
    },
    {
     "data": {
      "application/vnd.jupyter.widget-view+json": {
       "model_id": "8433655201b642c28709549cf3fb6254",
       "version_major": 2,
       "version_minor": 0
      },
      "text/plain": [
       "HBox(children=(FloatProgress(value=0.0, description='Iteration', max=1763.0, style=ProgressStyle(description_w…"
      ]
     },
     "metadata": {},
     "output_type": "display_data"
    },
    {
     "name": "stdout",
     "output_type": "stream",
     "text": [
      "\n"
     ]
    },
    {
     "data": {
      "application/vnd.jupyter.widget-view+json": {
       "model_id": "b1e660eda2a749bfb938bbb87174a689",
       "version_major": 2,
       "version_minor": 0
      },
      "text/plain": [
       "HBox(children=(FloatProgress(value=0.0, description='Iteration', max=1763.0, style=ProgressStyle(description_w…"
      ]
     },
     "metadata": {},
     "output_type": "display_data"
    },
    {
     "name": "stdout",
     "output_type": "stream",
     "text": [
      "\n"
     ]
    },
    {
     "data": {
      "application/vnd.jupyter.widget-view+json": {
       "model_id": "a2489fcd84fa4e7faf9bd4d4f9fe1517",
       "version_major": 2,
       "version_minor": 0
      },
      "text/plain": [
       "HBox(children=(FloatProgress(value=0.0, description='Iteration', max=1763.0, style=ProgressStyle(description_w…"
      ]
     },
     "metadata": {},
     "output_type": "display_data"
    },
    {
     "name": "stdout",
     "output_type": "stream",
     "text": [
      "\n"
     ]
    },
    {
     "data": {
      "application/vnd.jupyter.widget-view+json": {
       "model_id": "f6df289110974dfdb77ed12f46614be4",
       "version_major": 2,
       "version_minor": 0
      },
      "text/plain": [
       "HBox(children=(FloatProgress(value=0.0, description='Iteration', max=1763.0, style=ProgressStyle(description_w…"
      ]
     },
     "metadata": {},
     "output_type": "display_data"
    },
    {
     "name": "stdout",
     "output_type": "stream",
     "text": [
      "\n"
     ]
    },
    {
     "data": {
      "application/vnd.jupyter.widget-view+json": {
       "model_id": "cff698d04a5f4058a5b26f390c24cff2",
       "version_major": 2,
       "version_minor": 0
      },
      "text/plain": [
       "HBox(children=(FloatProgress(value=0.0, description='Iteration', max=1763.0, style=ProgressStyle(description_w…"
      ]
     },
     "metadata": {},
     "output_type": "display_data"
    },
    {
     "name": "stdout",
     "output_type": "stream",
     "text": [
      "\n"
     ]
    },
    {
     "data": {
      "application/vnd.jupyter.widget-view+json": {
       "model_id": "28fe8bba5b1446b5923292ff41d1be10",
       "version_major": 2,
       "version_minor": 0
      },
      "text/plain": [
       "HBox(children=(FloatProgress(value=0.0, description='Iteration', max=1763.0, style=ProgressStyle(description_w…"
      ]
     },
     "metadata": {},
     "output_type": "display_data"
    },
    {
     "name": "stdout",
     "output_type": "stream",
     "text": [
      "\n"
     ]
    },
    {
     "data": {
      "application/vnd.jupyter.widget-view+json": {
       "model_id": "fffa7e5368554ea1ac5844c9ba89220c",
       "version_major": 2,
       "version_minor": 0
      },
      "text/plain": [
       "HBox(children=(FloatProgress(value=0.0, description='Iteration', max=1763.0, style=ProgressStyle(description_w…"
      ]
     },
     "metadata": {},
     "output_type": "display_data"
    },
    {
     "name": "stdout",
     "output_type": "stream",
     "text": [
      "\n"
     ]
    },
    {
     "data": {
      "application/vnd.jupyter.widget-view+json": {
       "model_id": "6ea9dcfb19b140e4b4ee9916ccd3d5c2",
       "version_major": 2,
       "version_minor": 0
      },
      "text/plain": [
       "HBox(children=(FloatProgress(value=0.0, description='Iteration', max=1763.0, style=ProgressStyle(description_w…"
      ]
     },
     "metadata": {},
     "output_type": "display_data"
    },
    {
     "name": "stdout",
     "output_type": "stream",
     "text": [
      "\n"
     ]
    },
    {
     "data": {
      "application/vnd.jupyter.widget-view+json": {
       "model_id": "7922f92f41d347e1866a1fa62210bdbe",
       "version_major": 2,
       "version_minor": 0
      },
      "text/plain": [
       "HBox(children=(FloatProgress(value=0.0, description='Iteration', max=1763.0, style=ProgressStyle(description_w…"
      ]
     },
     "metadata": {},
     "output_type": "display_data"
    },
    {
     "name": "stdout",
     "output_type": "stream",
     "text": [
      "\n"
     ]
    },
    {
     "data": {
      "application/vnd.jupyter.widget-view+json": {
       "model_id": "dfd0e8d447cb4a41b6f902fdc15af806",
       "version_major": 2,
       "version_minor": 0
      },
      "text/plain": [
       "HBox(children=(FloatProgress(value=0.0, description='Iteration', max=1763.0, style=ProgressStyle(description_w…"
      ]
     },
     "metadata": {},
     "output_type": "display_data"
    },
    {
     "name": "stdout",
     "output_type": "stream",
     "text": [
      "\n"
     ]
    },
    {
     "data": {
      "application/vnd.jupyter.widget-view+json": {
       "model_id": "c9c5bf5cfe1e44339be01bd073f4dbd3",
       "version_major": 2,
       "version_minor": 0
      },
      "text/plain": [
       "HBox(children=(FloatProgress(value=0.0, description='Iteration', max=1763.0, style=ProgressStyle(description_w…"
      ]
     },
     "metadata": {},
     "output_type": "display_data"
    },
    {
     "name": "stdout",
     "output_type": "stream",
     "text": [
      "\n"
     ]
    },
    {
     "data": {
      "application/vnd.jupyter.widget-view+json": {
       "model_id": "ad2dfd6063e04b3087ca9a967d028a32",
       "version_major": 2,
       "version_minor": 0
      },
      "text/plain": [
       "HBox(children=(FloatProgress(value=0.0, description='Iteration', max=1763.0, style=ProgressStyle(description_w…"
      ]
     },
     "metadata": {},
     "output_type": "display_data"
    },
    {
     "name": "stdout",
     "output_type": "stream",
     "text": [
      "\n"
     ]
    },
    {
     "data": {
      "application/vnd.jupyter.widget-view+json": {
       "model_id": "38f5dfaaf3b74f13958b6ae23d0a793e",
       "version_major": 2,
       "version_minor": 0
      },
      "text/plain": [
       "HBox(children=(FloatProgress(value=0.0, description='Iteration', max=1763.0, style=ProgressStyle(description_w…"
      ]
     },
     "metadata": {},
     "output_type": "display_data"
    },
    {
     "name": "stdout",
     "output_type": "stream",
     "text": [
      "\n"
     ]
    },
    {
     "data": {
      "application/vnd.jupyter.widget-view+json": {
       "model_id": "b69f56320bac49e688b4214500aff67b",
       "version_major": 2,
       "version_minor": 0
      },
      "text/plain": [
       "HBox(children=(FloatProgress(value=0.0, description='Iteration', max=1763.0, style=ProgressStyle(description_w…"
      ]
     },
     "metadata": {},
     "output_type": "display_data"
    },
    {
     "name": "stdout",
     "output_type": "stream",
     "text": [
      "\n"
     ]
    },
    {
     "data": {
      "application/vnd.jupyter.widget-view+json": {
       "model_id": "e79d80272ce64ecaaceae87e9d7a5e94",
       "version_major": 2,
       "version_minor": 0
      },
      "text/plain": [
       "HBox(children=(FloatProgress(value=0.0, description='Iteration', max=1763.0, style=ProgressStyle(description_w…"
      ]
     },
     "metadata": {},
     "output_type": "display_data"
    },
    {
     "name": "stdout",
     "output_type": "stream",
     "text": [
      "\n"
     ]
    },
    {
     "data": {
      "application/vnd.jupyter.widget-view+json": {
       "model_id": "50e9b45b308946d5b488bd2c8f5f6944",
       "version_major": 2,
       "version_minor": 0
      },
      "text/plain": [
       "HBox(children=(FloatProgress(value=0.0, description='Iteration', max=1763.0, style=ProgressStyle(description_w…"
      ]
     },
     "metadata": {},
     "output_type": "display_data"
    },
    {
     "name": "stdout",
     "output_type": "stream",
     "text": [
      "\n"
     ]
    },
    {
     "data": {
      "application/vnd.jupyter.widget-view+json": {
       "model_id": "ca87385c00e0417f8799c2098c7ccc56",
       "version_major": 2,
       "version_minor": 0
      },
      "text/plain": [
       "HBox(children=(FloatProgress(value=0.0, description='Iteration', max=1763.0, style=ProgressStyle(description_w…"
      ]
     },
     "metadata": {},
     "output_type": "display_data"
    },
    {
     "name": "stdout",
     "output_type": "stream",
     "text": [
      "\n",
      "\n"
     ]
    },
    {
     "name": "stderr",
     "output_type": "stream",
     "text": [
      "Some weights of the model checkpoint at deepset/xlm-roberta-large-squad2 were not used when initializing XLMRobertaForSequenceClassification: ['qa_outputs.weight', 'qa_outputs.bias', 'roberta.pooler.dense.weight', 'roberta.pooler.dense.bias']\n",
      "- This IS expected if you are initializing XLMRobertaForSequenceClassification from the checkpoint of a model trained on another task or with another architecture (e.g. initializing a BertForSequenceClassification model from a BertForPreTraining model).\n",
      "- This IS NOT expected if you are initializing XLMRobertaForSequenceClassification from the checkpoint of a model that you expect to be exactly identical (initializing a BertForSequenceClassification model from a BertForSequenceClassification model).\n",
      "Some weights of XLMRobertaForSequenceClassification were not initialized from the model checkpoint at deepset/xlm-roberta-large-squad2 and are newly initialized: ['classifier.dense.weight', 'classifier.dense.bias', 'classifier.out_proj.weight', 'classifier.out_proj.bias']\n",
      "You should probably TRAIN this model on a down-stream task to be able to use it for predictions and inference.\n"
     ]
    },
    {
     "data": {
      "application/vnd.jupyter.widget-view+json": {
       "model_id": "c8a8ec377f924c4da2bf8e6bcf9048ae",
       "version_major": 2,
       "version_minor": 0
      },
      "text/plain": [
       "HBox(children=(FloatProgress(value=0.0, description='Epoch', max=30.0, style=ProgressStyle(description_width='…"
      ]
     },
     "metadata": {},
     "output_type": "display_data"
    },
    {
     "data": {
      "application/vnd.jupyter.widget-view+json": {
       "model_id": "ee3ac51cc3344a75aa178adc8e6e9720",
       "version_major": 2,
       "version_minor": 0
      },
      "text/plain": [
       "HBox(children=(FloatProgress(value=0.0, description='Iteration', max=1763.0, style=ProgressStyle(description_w…"
      ]
     },
     "metadata": {},
     "output_type": "display_data"
    },
    {
     "name": "stdout",
     "output_type": "stream",
     "text": [
      "\n"
     ]
    },
    {
     "data": {
      "application/vnd.jupyter.widget-view+json": {
       "model_id": "156864c2bd1346bdb4f0125c8ec0e06d",
       "version_major": 2,
       "version_minor": 0
      },
      "text/plain": [
       "HBox(children=(FloatProgress(value=0.0, description='Iteration', max=1763.0, style=ProgressStyle(description_w…"
      ]
     },
     "metadata": {},
     "output_type": "display_data"
    },
    {
     "name": "stdout",
     "output_type": "stream",
     "text": [
      "\n"
     ]
    },
    {
     "data": {
      "application/vnd.jupyter.widget-view+json": {
       "model_id": "f95ee9c7d6394452ad104519de86c5b6",
       "version_major": 2,
       "version_minor": 0
      },
      "text/plain": [
       "HBox(children=(FloatProgress(value=0.0, description='Iteration', max=1763.0, style=ProgressStyle(description_w…"
      ]
     },
     "metadata": {},
     "output_type": "display_data"
    },
    {
     "name": "stdout",
     "output_type": "stream",
     "text": [
      "\n"
     ]
    },
    {
     "data": {
      "application/vnd.jupyter.widget-view+json": {
       "model_id": "339e2721f9b44a1a85f003f7aecd45c6",
       "version_major": 2,
       "version_minor": 0
      },
      "text/plain": [
       "HBox(children=(FloatProgress(value=0.0, description='Iteration', max=1763.0, style=ProgressStyle(description_w…"
      ]
     },
     "metadata": {},
     "output_type": "display_data"
    },
    {
     "name": "stdout",
     "output_type": "stream",
     "text": [
      "\n"
     ]
    },
    {
     "data": {
      "application/vnd.jupyter.widget-view+json": {
       "model_id": "319964fb169b4003af9fe0396c92a2ce",
       "version_major": 2,
       "version_minor": 0
      },
      "text/plain": [
       "HBox(children=(FloatProgress(value=0.0, description='Iteration', max=1763.0, style=ProgressStyle(description_w…"
      ]
     },
     "metadata": {},
     "output_type": "display_data"
    },
    {
     "name": "stdout",
     "output_type": "stream",
     "text": [
      "\n"
     ]
    },
    {
     "data": {
      "application/vnd.jupyter.widget-view+json": {
       "model_id": "762df6136b1b46aa885fc50fa429f3da",
       "version_major": 2,
       "version_minor": 0
      },
      "text/plain": [
       "HBox(children=(FloatProgress(value=0.0, description='Iteration', max=1763.0, style=ProgressStyle(description_w…"
      ]
     },
     "metadata": {},
     "output_type": "display_data"
    },
    {
     "name": "stdout",
     "output_type": "stream",
     "text": [
      "\n"
     ]
    },
    {
     "data": {
      "application/vnd.jupyter.widget-view+json": {
       "model_id": "c3c782e6a81442c4a831e5c9fb5bf80b",
       "version_major": 2,
       "version_minor": 0
      },
      "text/plain": [
       "HBox(children=(FloatProgress(value=0.0, description='Iteration', max=1763.0, style=ProgressStyle(description_w…"
      ]
     },
     "metadata": {},
     "output_type": "display_data"
    },
    {
     "name": "stdout",
     "output_type": "stream",
     "text": [
      "\n"
     ]
    },
    {
     "data": {
      "application/vnd.jupyter.widget-view+json": {
       "model_id": "97d0ec577aaf43d99a19949280dc8701",
       "version_major": 2,
       "version_minor": 0
      },
      "text/plain": [
       "HBox(children=(FloatProgress(value=0.0, description='Iteration', max=1763.0, style=ProgressStyle(description_w…"
      ]
     },
     "metadata": {},
     "output_type": "display_data"
    },
    {
     "name": "stdout",
     "output_type": "stream",
     "text": [
      "\n"
     ]
    },
    {
     "data": {
      "application/vnd.jupyter.widget-view+json": {
       "model_id": "7494902070df4162b4593fa51e13eb87",
       "version_major": 2,
       "version_minor": 0
      },
      "text/plain": [
       "HBox(children=(FloatProgress(value=0.0, description='Iteration', max=1763.0, style=ProgressStyle(description_w…"
      ]
     },
     "metadata": {},
     "output_type": "display_data"
    },
    {
     "name": "stdout",
     "output_type": "stream",
     "text": [
      "\n"
     ]
    },
    {
     "data": {
      "application/vnd.jupyter.widget-view+json": {
       "model_id": "75df050ab4304d68a7a23af75c7e2b08",
       "version_major": 2,
       "version_minor": 0
      },
      "text/plain": [
       "HBox(children=(FloatProgress(value=0.0, description='Iteration', max=1763.0, style=ProgressStyle(description_w…"
      ]
     },
     "metadata": {},
     "output_type": "display_data"
    },
    {
     "name": "stdout",
     "output_type": "stream",
     "text": [
      "\n"
     ]
    },
    {
     "data": {
      "application/vnd.jupyter.widget-view+json": {
       "model_id": "afb4945423534a279c1acef4a4db28ff",
       "version_major": 2,
       "version_minor": 0
      },
      "text/plain": [
       "HBox(children=(FloatProgress(value=0.0, description='Iteration', max=1763.0, style=ProgressStyle(description_w…"
      ]
     },
     "metadata": {},
     "output_type": "display_data"
    },
    {
     "name": "stdout",
     "output_type": "stream",
     "text": [
      "\n"
     ]
    },
    {
     "data": {
      "application/vnd.jupyter.widget-view+json": {
       "model_id": "c051daa1701a4e898d3b5a77004f555a",
       "version_major": 2,
       "version_minor": 0
      },
      "text/plain": [
       "HBox(children=(FloatProgress(value=0.0, description='Iteration', max=1763.0, style=ProgressStyle(description_w…"
      ]
     },
     "metadata": {},
     "output_type": "display_data"
    },
    {
     "name": "stdout",
     "output_type": "stream",
     "text": [
      "\n"
     ]
    },
    {
     "data": {
      "application/vnd.jupyter.widget-view+json": {
       "model_id": "7b0281a7d79447ed974e595cda1b5de8",
       "version_major": 2,
       "version_minor": 0
      },
      "text/plain": [
       "HBox(children=(FloatProgress(value=0.0, description='Iteration', max=1763.0, style=ProgressStyle(description_w…"
      ]
     },
     "metadata": {},
     "output_type": "display_data"
    },
    {
     "name": "stdout",
     "output_type": "stream",
     "text": [
      "\n"
     ]
    },
    {
     "data": {
      "application/vnd.jupyter.widget-view+json": {
       "model_id": "c218eb7dacfe4d35aee7beddac1427de",
       "version_major": 2,
       "version_minor": 0
      },
      "text/plain": [
       "HBox(children=(FloatProgress(value=0.0, description='Iteration', max=1763.0, style=ProgressStyle(description_w…"
      ]
     },
     "metadata": {},
     "output_type": "display_data"
    },
    {
     "name": "stdout",
     "output_type": "stream",
     "text": [
      "\n"
     ]
    },
    {
     "data": {
      "application/vnd.jupyter.widget-view+json": {
       "model_id": "c9752b6f398d48a28755bb0d9c9c9b9a",
       "version_major": 2,
       "version_minor": 0
      },
      "text/plain": [
       "HBox(children=(FloatProgress(value=0.0, description='Iteration', max=1763.0, style=ProgressStyle(description_w…"
      ]
     },
     "metadata": {},
     "output_type": "display_data"
    },
    {
     "name": "stdout",
     "output_type": "stream",
     "text": [
      "\n"
     ]
    },
    {
     "data": {
      "application/vnd.jupyter.widget-view+json": {
       "model_id": "4184811bd25c49eb9e5887f7c7a3f25d",
       "version_major": 2,
       "version_minor": 0
      },
      "text/plain": [
       "HBox(children=(FloatProgress(value=0.0, description='Iteration', max=1763.0, style=ProgressStyle(description_w…"
      ]
     },
     "metadata": {},
     "output_type": "display_data"
    },
    {
     "name": "stdout",
     "output_type": "stream",
     "text": [
      "\n"
     ]
    },
    {
     "data": {
      "application/vnd.jupyter.widget-view+json": {
       "model_id": "76b22cb2b6cc4fa8a3a4359186ff5cda",
       "version_major": 2,
       "version_minor": 0
      },
      "text/plain": [
       "HBox(children=(FloatProgress(value=0.0, description='Iteration', max=1763.0, style=ProgressStyle(description_w…"
      ]
     },
     "metadata": {},
     "output_type": "display_data"
    },
    {
     "name": "stdout",
     "output_type": "stream",
     "text": [
      "\n"
     ]
    },
    {
     "data": {
      "application/vnd.jupyter.widget-view+json": {
       "model_id": "19ff3cae2acc41bab1924e63181650de",
       "version_major": 2,
       "version_minor": 0
      },
      "text/plain": [
       "HBox(children=(FloatProgress(value=0.0, description='Iteration', max=1763.0, style=ProgressStyle(description_w…"
      ]
     },
     "metadata": {},
     "output_type": "display_data"
    },
    {
     "name": "stdout",
     "output_type": "stream",
     "text": [
      "\n"
     ]
    },
    {
     "data": {
      "application/vnd.jupyter.widget-view+json": {
       "model_id": "a838bd6b3a854e1db1a78d88cb7daec7",
       "version_major": 2,
       "version_minor": 0
      },
      "text/plain": [
       "HBox(children=(FloatProgress(value=0.0, description='Iteration', max=1763.0, style=ProgressStyle(description_w…"
      ]
     },
     "metadata": {},
     "output_type": "display_data"
    },
    {
     "name": "stdout",
     "output_type": "stream",
     "text": [
      "\n"
     ]
    },
    {
     "data": {
      "application/vnd.jupyter.widget-view+json": {
       "model_id": "1dbdd7cd63eb4ca391b8f701251d1137",
       "version_major": 2,
       "version_minor": 0
      },
      "text/plain": [
       "HBox(children=(FloatProgress(value=0.0, description='Iteration', max=1763.0, style=ProgressStyle(description_w…"
      ]
     },
     "metadata": {},
     "output_type": "display_data"
    },
    {
     "name": "stdout",
     "output_type": "stream",
     "text": [
      "\n"
     ]
    },
    {
     "data": {
      "application/vnd.jupyter.widget-view+json": {
       "model_id": "8997d707bded4674851515885757520c",
       "version_major": 2,
       "version_minor": 0
      },
      "text/plain": [
       "HBox(children=(FloatProgress(value=0.0, description='Iteration', max=1763.0, style=ProgressStyle(description_w…"
      ]
     },
     "metadata": {},
     "output_type": "display_data"
    },
    {
     "name": "stdout",
     "output_type": "stream",
     "text": [
      "\n"
     ]
    },
    {
     "data": {
      "application/vnd.jupyter.widget-view+json": {
       "model_id": "6df680f687b141c39ebd088626b82d77",
       "version_major": 2,
       "version_minor": 0
      },
      "text/plain": [
       "HBox(children=(FloatProgress(value=0.0, description='Iteration', max=1763.0, style=ProgressStyle(description_w…"
      ]
     },
     "metadata": {},
     "output_type": "display_data"
    },
    {
     "name": "stdout",
     "output_type": "stream",
     "text": [
      "\n"
     ]
    },
    {
     "data": {
      "application/vnd.jupyter.widget-view+json": {
       "model_id": "9d8dc96657e449c0b02b47b8a9d13d3b",
       "version_major": 2,
       "version_minor": 0
      },
      "text/plain": [
       "HBox(children=(FloatProgress(value=0.0, description='Iteration', max=1763.0, style=ProgressStyle(description_w…"
      ]
     },
     "metadata": {},
     "output_type": "display_data"
    },
    {
     "name": "stdout",
     "output_type": "stream",
     "text": [
      "\n"
     ]
    },
    {
     "data": {
      "application/vnd.jupyter.widget-view+json": {
       "model_id": "8a041eca3aba4ba39dbc29732b2e72a4",
       "version_major": 2,
       "version_minor": 0
      },
      "text/plain": [
       "HBox(children=(FloatProgress(value=0.0, description='Iteration', max=1763.0, style=ProgressStyle(description_w…"
      ]
     },
     "metadata": {},
     "output_type": "display_data"
    },
    {
     "name": "stdout",
     "output_type": "stream",
     "text": [
      "\n"
     ]
    },
    {
     "data": {
      "application/vnd.jupyter.widget-view+json": {
       "model_id": "5f20ab97a5094fdb8a59c82808110b42",
       "version_major": 2,
       "version_minor": 0
      },
      "text/plain": [
       "HBox(children=(FloatProgress(value=0.0, description='Iteration', max=1763.0, style=ProgressStyle(description_w…"
      ]
     },
     "metadata": {},
     "output_type": "display_data"
    },
    {
     "name": "stdout",
     "output_type": "stream",
     "text": [
      "\n"
     ]
    },
    {
     "data": {
      "application/vnd.jupyter.widget-view+json": {
       "model_id": "97e3cf7142d149868c1220f9db2301c8",
       "version_major": 2,
       "version_minor": 0
      },
      "text/plain": [
       "HBox(children=(FloatProgress(value=0.0, description='Iteration', max=1763.0, style=ProgressStyle(description_w…"
      ]
     },
     "metadata": {},
     "output_type": "display_data"
    },
    {
     "name": "stdout",
     "output_type": "stream",
     "text": [
      "\n"
     ]
    },
    {
     "data": {
      "application/vnd.jupyter.widget-view+json": {
       "model_id": "baa8a68355a047e2b528280cba9c367a",
       "version_major": 2,
       "version_minor": 0
      },
      "text/plain": [
       "HBox(children=(FloatProgress(value=0.0, description='Iteration', max=1763.0, style=ProgressStyle(description_w…"
      ]
     },
     "metadata": {},
     "output_type": "display_data"
    },
    {
     "name": "stdout",
     "output_type": "stream",
     "text": [
      "\n"
     ]
    },
    {
     "data": {
      "application/vnd.jupyter.widget-view+json": {
       "model_id": "ed305bc1fdfa480aba53b74640d0c902",
       "version_major": 2,
       "version_minor": 0
      },
      "text/plain": [
       "HBox(children=(FloatProgress(value=0.0, description='Iteration', max=1763.0, style=ProgressStyle(description_w…"
      ]
     },
     "metadata": {},
     "output_type": "display_data"
    },
    {
     "name": "stdout",
     "output_type": "stream",
     "text": [
      "\n"
     ]
    },
    {
     "data": {
      "application/vnd.jupyter.widget-view+json": {
       "model_id": "c89158452d2548e19c311a85e4717e89",
       "version_major": 2,
       "version_minor": 0
      },
      "text/plain": [
       "HBox(children=(FloatProgress(value=0.0, description='Iteration', max=1763.0, style=ProgressStyle(description_w…"
      ]
     },
     "metadata": {},
     "output_type": "display_data"
    },
    {
     "name": "stdout",
     "output_type": "stream",
     "text": [
      "\n"
     ]
    },
    {
     "data": {
      "application/vnd.jupyter.widget-view+json": {
       "model_id": "bd1c4c1e7d684dfdb9c23a93dc4d4999",
       "version_major": 2,
       "version_minor": 0
      },
      "text/plain": [
       "HBox(children=(FloatProgress(value=0.0, description='Iteration', max=1763.0, style=ProgressStyle(description_w…"
      ]
     },
     "metadata": {},
     "output_type": "display_data"
    },
    {
     "name": "stdout",
     "output_type": "stream",
     "text": [
      "\n",
      "\n"
     ]
    }
   ],
   "source": [
    "for folder in [\"ctkclean2\", \"ctkclean1\"]:\n",
    "    for i in range(0, 1):\n",
    "        if i == 0:\n",
    "            bert_name = (\n",
    "                bert_name_short\n",
    "            ) = \"deepset/xlm-roberta-large-squad2\"  # \"DeepPavlov/bert-base-multilingual-cased-sentence\" #\"bert-base-multilingual-cased\"  # \"deepset/xlm-roberta-large-squad2\"\n",
    "            max_length = None\n",
    "            batch_size = 2\n",
    "            num_epochs = 30\n",
    "            post = \"\"\n",
    "            model_name = f\"{bert_name_short}_bs{batch_size}{post}{folder}\"\n",
    "            output_path = pjoin(\"models_clean\", model_name)\n",
    "        if i == 1:\n",
    "            bert_name = (\n",
    "                bert_name_short\n",
    "            ) = \"deepset/xlm-roberta-large-squad2\"  # \"DeepPavlov/bert-base-multilingual-cased-sentence\" #\"bert-base-multilingual-cased\"  # \"deepset/xlm-roberta-large-squad2\"\n",
    "            max_length = None\n",
    "            batch_size = 8\n",
    "            num_epochs = 30\n",
    "            post = \"\"\n",
    "            model_name = f\"{bert_name_short}_bs{batch_size}{post}{folder}\"\n",
    "            output_path = pjoin(\"models_clean\", model_name)\n",
    "        \n",
    "        trn_examples, tst_examples, val_examples = load_examples_from_splits(folder)\n",
    "        os.makedirs(output_path, exist_ok=True)\n",
    "        logger.info(f\"output path: {output_path}\")\n",
    "        pickle.dump(trn_examples, open(pjoin(output_path, \"trn_examples.p\"), \"wb\"))\n",
    "        pickle.dump(tst_examples, open(pjoin(output_path, \"tst_examples.p\"), \"wb\"))\n",
    "        pickle.dump(val_examples, open(pjoin(output_path, \"val_examples.p\"), \"wb\"))\n",
    "\n",
    "        cfg = OrderedDict(\n",
    "            [\n",
    "                (\"bert_name\", bert_name),\n",
    "                (\"bert_name_short\", bert_name_short),\n",
    "                (\"batch_size\", batch_size),\n",
    "                (\"max_length\", max_length),\n",
    "            ]\n",
    "        )\n",
    "\n",
    "        with open(pjoin(output_path, \"rteconfig.json\"), \"w\") as outfile:\n",
    "            outfile.write(json.dumps(cfg, indent=3))\n",
    "\n",
    "        trn_dataloader = DataLoader(trn_examples, shuffle=True, batch_size=batch_size)\n",
    "        val_dataloader = DataLoader(val_examples, shuffle=False, batch_size=batch_size)\n",
    "        tst_dataloader = DataLoader(tst_examples, shuffle=False, batch_size=batch_size)\n",
    "\n",
    "        trn_evaluator = CESoftmaxAccuracyEvaluator.from_input_examples(\n",
    "            trn_examples, name=\"train\"\n",
    "        )\n",
    "        val_evaluator = CESoftmaxAccuracyEvaluator.from_input_examples(\n",
    "            val_examples, name=\"validation\"\n",
    "        )\n",
    "        tst_evaluator = CESoftmaxAccuracyEvaluator.from_input_examples(\n",
    "            tst_examples, name=\"test\"\n",
    "        )\n",
    "\n",
    "        # 10% of train data for warm-up\n",
    "        warmup_steps = math.ceil(len(trn_dataloader) * num_epochs * 0.1)\n",
    "        logger.info(f\"warmup_steps: {warmup_steps}\")\n",
    "\n",
    "        model = CrossEncoder(bert_name, num_labels=3, max_length=max_length)\n",
    "\n",
    "        def cb(score, epoch, steps):\n",
    "            logger.info(f\"E{epoch}: score: {score}\")\n",
    "            if score > model.best_score:\n",
    "                logger.info(f\"new best model for score: {score}\")\n",
    "\n",
    "        model.fit(\n",
    "            train_dataloader=trn_dataloader,\n",
    "            epochs=num_epochs,\n",
    "            warmup_steps=warmup_steps,\n",
    "            evaluator=SequentialEvaluator([trn_evaluator, val_evaluator]),\n",
    "            output_path=output_path,\n",
    "            callback=cb,\n",
    "            save_best_model=True,\n",
    "        )\n",
    "\n",
    "        model = CrossEncoder(output_path, max_length=max_length)\n",
    "        evals[output_path] = tst_evaluator(model, output_path=output_path)"
   ]
  },
  {
   "cell_type": "code",
   "execution_count": 17,
   "id": "8d54b63c-cd54-4ce0-b3dd-c9e88d76fe7a",
   "metadata": {},
   "outputs": [
    {
     "name": "stderr",
     "output_type": "stream",
     "text": [
      "Some weights of the model checkpoint at deepset/xlm-roberta-large-squad2 were not used when initializing XLMRobertaForSequenceClassification: ['qa_outputs.weight', 'qa_outputs.bias', 'roberta.pooler.dense.weight', 'roberta.pooler.dense.bias']\n",
      "- This IS expected if you are initializing XLMRobertaForSequenceClassification from the checkpoint of a model trained on another task or with another architecture (e.g. initializing a BertForSequenceClassification model from a BertForPreTraining model).\n",
      "- This IS NOT expected if you are initializing XLMRobertaForSequenceClassification from the checkpoint of a model that you expect to be exactly identical (initializing a BertForSequenceClassification model from a BertForSequenceClassification model).\n",
      "Some weights of XLMRobertaForSequenceClassification were not initialized from the model checkpoint at deepset/xlm-roberta-large-squad2 and are newly initialized: ['classifier.dense.weight', 'classifier.dense.bias', 'classifier.out_proj.weight', 'classifier.out_proj.bias']\n",
      "You should probably TRAIN this model on a down-stream task to be able to use it for predictions and inference.\n"
     ]
    },
    {
     "data": {
      "application/vnd.jupyter.widget-view+json": {
       "model_id": "a043414a01ab4a3d97a33c1d349d1a57",
       "version_major": 2,
       "version_minor": 0
      },
      "text/plain": [
       "HBox(children=(FloatProgress(value=0.0, description='Epoch', max=30.0, style=ProgressStyle(description_width='…"
      ]
     },
     "metadata": {},
     "output_type": "display_data"
    },
    {
     "data": {
      "application/vnd.jupyter.widget-view+json": {
       "model_id": "44973e225f954f6e9826a756e83442b5",
       "version_major": 2,
       "version_minor": 0
      },
      "text/plain": [
       "HBox(children=(FloatProgress(value=0.0, description='Iteration', max=248.0, style=ProgressStyle(description_wi…"
      ]
     },
     "metadata": {},
     "output_type": "display_data"
    },
    {
     "name": "stdout",
     "output_type": "stream",
     "text": [
      "\n",
      "\n"
     ]
    },
    {
     "ename": "RuntimeError",
     "evalue": "CUDA out of memory. Tried to allocate 96.00 MiB (GPU 0; 31.75 GiB total capacity; 29.09 GiB already allocated; 62.00 MiB free; 30.91 GiB reserved in total by PyTorch)",
     "output_type": "error",
     "traceback": [
      "\u001B[0;31m---------------------------------------------------------------------------\u001B[0m",
      "\u001B[0;31mRuntimeError\u001B[0m                              Traceback (most recent call last)",
      "\u001B[0;32m<ipython-input-17-b0af8bbe5bd4>\u001B[0m in \u001B[0;36m<module>\u001B[0;34m\u001B[0m\n\u001B[1;32m     91\u001B[0m         \u001B[0moutput_path\u001B[0m\u001B[0;34m=\u001B[0m\u001B[0moutput_path\u001B[0m\u001B[0;34m,\u001B[0m\u001B[0;34m\u001B[0m\u001B[0;34m\u001B[0m\u001B[0m\n\u001B[1;32m     92\u001B[0m         \u001B[0mcallback\u001B[0m\u001B[0;34m=\u001B[0m\u001B[0mcb\u001B[0m\u001B[0;34m,\u001B[0m\u001B[0;34m\u001B[0m\u001B[0;34m\u001B[0m\u001B[0m\n\u001B[0;32m---> 93\u001B[0;31m         \u001B[0msave_best_model\u001B[0m\u001B[0;34m=\u001B[0m\u001B[0;32mTrue\u001B[0m\u001B[0;34m,\u001B[0m\u001B[0;34m\u001B[0m\u001B[0;34m\u001B[0m\u001B[0m\n\u001B[0m\u001B[1;32m     94\u001B[0m     )\n\u001B[1;32m     95\u001B[0m \u001B[0;34m\u001B[0m\u001B[0m\n",
      "\u001B[0;32m~/venv/lib/python3.7/site-packages/sentence_transformers/cross_encoder/CrossEncoder.py\u001B[0m in \u001B[0;36mfit\u001B[0;34m(self, train_dataloader, evaluator, epochs, loss_fct, acitvation_fct, scheduler, warmup_steps, optimizer_class, optimizer_params, weight_decay, evaluation_steps, output_path, save_best_model, max_grad_norm, use_amp, callback)\u001B[0m\n\u001B[1;32m    187\u001B[0m                     \u001B[0mskip_scheduler\u001B[0m \u001B[0;34m=\u001B[0m \u001B[0mscaler\u001B[0m\u001B[0;34m.\u001B[0m\u001B[0mget_scale\u001B[0m\u001B[0;34m(\u001B[0m\u001B[0;34m)\u001B[0m \u001B[0;34m!=\u001B[0m \u001B[0mscale_before_step\u001B[0m\u001B[0;34m\u001B[0m\u001B[0;34m\u001B[0m\u001B[0m\n\u001B[1;32m    188\u001B[0m                 \u001B[0;32melse\u001B[0m\u001B[0;34m:\u001B[0m\u001B[0;34m\u001B[0m\u001B[0;34m\u001B[0m\u001B[0m\n\u001B[0;32m--> 189\u001B[0;31m                     \u001B[0mmodel_predictions\u001B[0m \u001B[0;34m=\u001B[0m \u001B[0mself\u001B[0m\u001B[0;34m.\u001B[0m\u001B[0mmodel\u001B[0m\u001B[0;34m(\u001B[0m\u001B[0;34m**\u001B[0m\u001B[0mfeatures\u001B[0m\u001B[0;34m,\u001B[0m \u001B[0mreturn_dict\u001B[0m\u001B[0;34m=\u001B[0m\u001B[0;32mTrue\u001B[0m\u001B[0;34m)\u001B[0m\u001B[0;34m\u001B[0m\u001B[0;34m\u001B[0m\u001B[0m\n\u001B[0m\u001B[1;32m    190\u001B[0m                     \u001B[0mlogits\u001B[0m \u001B[0;34m=\u001B[0m \u001B[0macitvation_fct\u001B[0m\u001B[0;34m(\u001B[0m\u001B[0mmodel_predictions\u001B[0m\u001B[0;34m.\u001B[0m\u001B[0mlogits\u001B[0m\u001B[0;34m)\u001B[0m\u001B[0;34m\u001B[0m\u001B[0;34m\u001B[0m\u001B[0m\n\u001B[1;32m    191\u001B[0m                     \u001B[0;32mif\u001B[0m \u001B[0mself\u001B[0m\u001B[0;34m.\u001B[0m\u001B[0mconfig\u001B[0m\u001B[0;34m.\u001B[0m\u001B[0mnum_labels\u001B[0m \u001B[0;34m==\u001B[0m \u001B[0;36m1\u001B[0m\u001B[0;34m:\u001B[0m\u001B[0;34m\u001B[0m\u001B[0;34m\u001B[0m\u001B[0m\n",
      "\u001B[0;32m/mnt/appl/software/PyTorch/1.7.1-fosscuda-2019b-Python-3.7.4/lib/python3.7/site-packages/torch/nn/modules/module.py\u001B[0m in \u001B[0;36m_call_impl\u001B[0;34m(self, *input, **kwargs)\u001B[0m\n\u001B[1;32m    725\u001B[0m             \u001B[0mresult\u001B[0m \u001B[0;34m=\u001B[0m \u001B[0mself\u001B[0m\u001B[0;34m.\u001B[0m\u001B[0m_slow_forward\u001B[0m\u001B[0;34m(\u001B[0m\u001B[0;34m*\u001B[0m\u001B[0minput\u001B[0m\u001B[0;34m,\u001B[0m \u001B[0;34m**\u001B[0m\u001B[0mkwargs\u001B[0m\u001B[0;34m)\u001B[0m\u001B[0;34m\u001B[0m\u001B[0;34m\u001B[0m\u001B[0m\n\u001B[1;32m    726\u001B[0m         \u001B[0;32melse\u001B[0m\u001B[0;34m:\u001B[0m\u001B[0;34m\u001B[0m\u001B[0;34m\u001B[0m\u001B[0m\n\u001B[0;32m--> 727\u001B[0;31m             \u001B[0mresult\u001B[0m \u001B[0;34m=\u001B[0m \u001B[0mself\u001B[0m\u001B[0;34m.\u001B[0m\u001B[0mforward\u001B[0m\u001B[0;34m(\u001B[0m\u001B[0;34m*\u001B[0m\u001B[0minput\u001B[0m\u001B[0;34m,\u001B[0m \u001B[0;34m**\u001B[0m\u001B[0mkwargs\u001B[0m\u001B[0;34m)\u001B[0m\u001B[0;34m\u001B[0m\u001B[0;34m\u001B[0m\u001B[0m\n\u001B[0m\u001B[1;32m    728\u001B[0m         for hook in itertools.chain(\n\u001B[1;32m    729\u001B[0m                 \u001B[0m_global_forward_hooks\u001B[0m\u001B[0;34m.\u001B[0m\u001B[0mvalues\u001B[0m\u001B[0;34m(\u001B[0m\u001B[0;34m)\u001B[0m\u001B[0;34m,\u001B[0m\u001B[0;34m\u001B[0m\u001B[0;34m\u001B[0m\u001B[0m\n",
      "\u001B[0;32m~/venv/lib/python3.7/site-packages/transformers/models/roberta/modeling_roberta.py\u001B[0m in \u001B[0;36mforward\u001B[0;34m(self, input_ids, attention_mask, token_type_ids, position_ids, head_mask, inputs_embeds, labels, output_attentions, output_hidden_states, return_dict)\u001B[0m\n\u001B[1;32m   1144\u001B[0m             \u001B[0moutput_attentions\u001B[0m\u001B[0;34m=\u001B[0m\u001B[0moutput_attentions\u001B[0m\u001B[0;34m,\u001B[0m\u001B[0;34m\u001B[0m\u001B[0;34m\u001B[0m\u001B[0m\n\u001B[1;32m   1145\u001B[0m             \u001B[0moutput_hidden_states\u001B[0m\u001B[0;34m=\u001B[0m\u001B[0moutput_hidden_states\u001B[0m\u001B[0;34m,\u001B[0m\u001B[0;34m\u001B[0m\u001B[0;34m\u001B[0m\u001B[0m\n\u001B[0;32m-> 1146\u001B[0;31m             \u001B[0mreturn_dict\u001B[0m\u001B[0;34m=\u001B[0m\u001B[0mreturn_dict\u001B[0m\u001B[0;34m,\u001B[0m\u001B[0;34m\u001B[0m\u001B[0;34m\u001B[0m\u001B[0m\n\u001B[0m\u001B[1;32m   1147\u001B[0m         )\n\u001B[1;32m   1148\u001B[0m         \u001B[0msequence_output\u001B[0m \u001B[0;34m=\u001B[0m \u001B[0moutputs\u001B[0m\u001B[0;34m[\u001B[0m\u001B[0;36m0\u001B[0m\u001B[0;34m]\u001B[0m\u001B[0;34m\u001B[0m\u001B[0;34m\u001B[0m\u001B[0m\n",
      "\u001B[0;32m/mnt/appl/software/PyTorch/1.7.1-fosscuda-2019b-Python-3.7.4/lib/python3.7/site-packages/torch/nn/modules/module.py\u001B[0m in \u001B[0;36m_call_impl\u001B[0;34m(self, *input, **kwargs)\u001B[0m\n\u001B[1;32m    725\u001B[0m             \u001B[0mresult\u001B[0m \u001B[0;34m=\u001B[0m \u001B[0mself\u001B[0m\u001B[0;34m.\u001B[0m\u001B[0m_slow_forward\u001B[0m\u001B[0;34m(\u001B[0m\u001B[0;34m*\u001B[0m\u001B[0minput\u001B[0m\u001B[0;34m,\u001B[0m \u001B[0;34m**\u001B[0m\u001B[0mkwargs\u001B[0m\u001B[0;34m)\u001B[0m\u001B[0;34m\u001B[0m\u001B[0;34m\u001B[0m\u001B[0m\n\u001B[1;32m    726\u001B[0m         \u001B[0;32melse\u001B[0m\u001B[0;34m:\u001B[0m\u001B[0;34m\u001B[0m\u001B[0;34m\u001B[0m\u001B[0m\n\u001B[0;32m--> 727\u001B[0;31m             \u001B[0mresult\u001B[0m \u001B[0;34m=\u001B[0m \u001B[0mself\u001B[0m\u001B[0;34m.\u001B[0m\u001B[0mforward\u001B[0m\u001B[0;34m(\u001B[0m\u001B[0;34m*\u001B[0m\u001B[0minput\u001B[0m\u001B[0;34m,\u001B[0m \u001B[0;34m**\u001B[0m\u001B[0mkwargs\u001B[0m\u001B[0;34m)\u001B[0m\u001B[0;34m\u001B[0m\u001B[0;34m\u001B[0m\u001B[0m\n\u001B[0m\u001B[1;32m    728\u001B[0m         for hook in itertools.chain(\n\u001B[1;32m    729\u001B[0m                 \u001B[0m_global_forward_hooks\u001B[0m\u001B[0;34m.\u001B[0m\u001B[0mvalues\u001B[0m\u001B[0;34m(\u001B[0m\u001B[0;34m)\u001B[0m\u001B[0;34m,\u001B[0m\u001B[0;34m\u001B[0m\u001B[0;34m\u001B[0m\u001B[0m\n",
      "\u001B[0;32m~/venv/lib/python3.7/site-packages/transformers/models/roberta/modeling_roberta.py\u001B[0m in \u001B[0;36mforward\u001B[0;34m(self, input_ids, attention_mask, token_type_ids, position_ids, head_mask, inputs_embeds, encoder_hidden_states, encoder_attention_mask, past_key_values, use_cache, output_attentions, output_hidden_states, return_dict)\u001B[0m\n\u001B[1;32m    806\u001B[0m             \u001B[0moutput_attentions\u001B[0m\u001B[0;34m=\u001B[0m\u001B[0moutput_attentions\u001B[0m\u001B[0;34m,\u001B[0m\u001B[0;34m\u001B[0m\u001B[0;34m\u001B[0m\u001B[0m\n\u001B[1;32m    807\u001B[0m             \u001B[0moutput_hidden_states\u001B[0m\u001B[0;34m=\u001B[0m\u001B[0moutput_hidden_states\u001B[0m\u001B[0;34m,\u001B[0m\u001B[0;34m\u001B[0m\u001B[0;34m\u001B[0m\u001B[0m\n\u001B[0;32m--> 808\u001B[0;31m             \u001B[0mreturn_dict\u001B[0m\u001B[0;34m=\u001B[0m\u001B[0mreturn_dict\u001B[0m\u001B[0;34m,\u001B[0m\u001B[0;34m\u001B[0m\u001B[0;34m\u001B[0m\u001B[0m\n\u001B[0m\u001B[1;32m    809\u001B[0m         )\n\u001B[1;32m    810\u001B[0m         \u001B[0msequence_output\u001B[0m \u001B[0;34m=\u001B[0m \u001B[0mencoder_outputs\u001B[0m\u001B[0;34m[\u001B[0m\u001B[0;36m0\u001B[0m\u001B[0;34m]\u001B[0m\u001B[0;34m\u001B[0m\u001B[0;34m\u001B[0m\u001B[0m\n",
      "\u001B[0;32m/mnt/appl/software/PyTorch/1.7.1-fosscuda-2019b-Python-3.7.4/lib/python3.7/site-packages/torch/nn/modules/module.py\u001B[0m in \u001B[0;36m_call_impl\u001B[0;34m(self, *input, **kwargs)\u001B[0m\n\u001B[1;32m    725\u001B[0m             \u001B[0mresult\u001B[0m \u001B[0;34m=\u001B[0m \u001B[0mself\u001B[0m\u001B[0;34m.\u001B[0m\u001B[0m_slow_forward\u001B[0m\u001B[0;34m(\u001B[0m\u001B[0;34m*\u001B[0m\u001B[0minput\u001B[0m\u001B[0;34m,\u001B[0m \u001B[0;34m**\u001B[0m\u001B[0mkwargs\u001B[0m\u001B[0;34m)\u001B[0m\u001B[0;34m\u001B[0m\u001B[0;34m\u001B[0m\u001B[0m\n\u001B[1;32m    726\u001B[0m         \u001B[0;32melse\u001B[0m\u001B[0;34m:\u001B[0m\u001B[0;34m\u001B[0m\u001B[0;34m\u001B[0m\u001B[0m\n\u001B[0;32m--> 727\u001B[0;31m             \u001B[0mresult\u001B[0m \u001B[0;34m=\u001B[0m \u001B[0mself\u001B[0m\u001B[0;34m.\u001B[0m\u001B[0mforward\u001B[0m\u001B[0;34m(\u001B[0m\u001B[0;34m*\u001B[0m\u001B[0minput\u001B[0m\u001B[0;34m,\u001B[0m \u001B[0;34m**\u001B[0m\u001B[0mkwargs\u001B[0m\u001B[0;34m)\u001B[0m\u001B[0;34m\u001B[0m\u001B[0;34m\u001B[0m\u001B[0m\n\u001B[0m\u001B[1;32m    728\u001B[0m         for hook in itertools.chain(\n\u001B[1;32m    729\u001B[0m                 \u001B[0m_global_forward_hooks\u001B[0m\u001B[0;34m.\u001B[0m\u001B[0mvalues\u001B[0m\u001B[0;34m(\u001B[0m\u001B[0;34m)\u001B[0m\u001B[0;34m,\u001B[0m\u001B[0;34m\u001B[0m\u001B[0;34m\u001B[0m\u001B[0m\n",
      "\u001B[0;32m~/venv/lib/python3.7/site-packages/transformers/models/roberta/modeling_roberta.py\u001B[0m in \u001B[0;36mforward\u001B[0;34m(self, hidden_states, attention_mask, head_mask, encoder_hidden_states, encoder_attention_mask, past_key_values, use_cache, output_attentions, output_hidden_states, return_dict)\u001B[0m\n\u001B[1;32m    503\u001B[0m                     \u001B[0mencoder_attention_mask\u001B[0m\u001B[0;34m,\u001B[0m\u001B[0;34m\u001B[0m\u001B[0;34m\u001B[0m\u001B[0m\n\u001B[1;32m    504\u001B[0m                     \u001B[0mpast_key_value\u001B[0m\u001B[0;34m,\u001B[0m\u001B[0;34m\u001B[0m\u001B[0;34m\u001B[0m\u001B[0m\n\u001B[0;32m--> 505\u001B[0;31m                     \u001B[0moutput_attentions\u001B[0m\u001B[0;34m,\u001B[0m\u001B[0;34m\u001B[0m\u001B[0;34m\u001B[0m\u001B[0m\n\u001B[0m\u001B[1;32m    506\u001B[0m                 )\n\u001B[1;32m    507\u001B[0m \u001B[0;34m\u001B[0m\u001B[0m\n",
      "\u001B[0;32m/mnt/appl/software/PyTorch/1.7.1-fosscuda-2019b-Python-3.7.4/lib/python3.7/site-packages/torch/nn/modules/module.py\u001B[0m in \u001B[0;36m_call_impl\u001B[0;34m(self, *input, **kwargs)\u001B[0m\n\u001B[1;32m    725\u001B[0m             \u001B[0mresult\u001B[0m \u001B[0;34m=\u001B[0m \u001B[0mself\u001B[0m\u001B[0;34m.\u001B[0m\u001B[0m_slow_forward\u001B[0m\u001B[0;34m(\u001B[0m\u001B[0;34m*\u001B[0m\u001B[0minput\u001B[0m\u001B[0;34m,\u001B[0m \u001B[0;34m**\u001B[0m\u001B[0mkwargs\u001B[0m\u001B[0;34m)\u001B[0m\u001B[0;34m\u001B[0m\u001B[0;34m\u001B[0m\u001B[0m\n\u001B[1;32m    726\u001B[0m         \u001B[0;32melse\u001B[0m\u001B[0;34m:\u001B[0m\u001B[0;34m\u001B[0m\u001B[0;34m\u001B[0m\u001B[0m\n\u001B[0;32m--> 727\u001B[0;31m             \u001B[0mresult\u001B[0m \u001B[0;34m=\u001B[0m \u001B[0mself\u001B[0m\u001B[0;34m.\u001B[0m\u001B[0mforward\u001B[0m\u001B[0;34m(\u001B[0m\u001B[0;34m*\u001B[0m\u001B[0minput\u001B[0m\u001B[0;34m,\u001B[0m \u001B[0;34m**\u001B[0m\u001B[0mkwargs\u001B[0m\u001B[0;34m)\u001B[0m\u001B[0;34m\u001B[0m\u001B[0;34m\u001B[0m\u001B[0m\n\u001B[0m\u001B[1;32m    728\u001B[0m         for hook in itertools.chain(\n\u001B[1;32m    729\u001B[0m                 \u001B[0m_global_forward_hooks\u001B[0m\u001B[0;34m.\u001B[0m\u001B[0mvalues\u001B[0m\u001B[0;34m(\u001B[0m\u001B[0;34m)\u001B[0m\u001B[0;34m,\u001B[0m\u001B[0;34m\u001B[0m\u001B[0;34m\u001B[0m\u001B[0m\n",
      "\u001B[0;32m~/venv/lib/python3.7/site-packages/transformers/models/roberta/modeling_roberta.py\u001B[0m in \u001B[0;36mforward\u001B[0;34m(self, hidden_states, attention_mask, head_mask, encoder_hidden_states, encoder_attention_mask, past_key_value, output_attentions)\u001B[0m\n\u001B[1;32m    432\u001B[0m \u001B[0;34m\u001B[0m\u001B[0m\n\u001B[1;32m    433\u001B[0m         layer_output = apply_chunking_to_forward(\n\u001B[0;32m--> 434\u001B[0;31m             \u001B[0mself\u001B[0m\u001B[0;34m.\u001B[0m\u001B[0mfeed_forward_chunk\u001B[0m\u001B[0;34m,\u001B[0m \u001B[0mself\u001B[0m\u001B[0;34m.\u001B[0m\u001B[0mchunk_size_feed_forward\u001B[0m\u001B[0;34m,\u001B[0m \u001B[0mself\u001B[0m\u001B[0;34m.\u001B[0m\u001B[0mseq_len_dim\u001B[0m\u001B[0;34m,\u001B[0m \u001B[0mattention_output\u001B[0m\u001B[0;34m\u001B[0m\u001B[0;34m\u001B[0m\u001B[0m\n\u001B[0m\u001B[1;32m    435\u001B[0m         )\n\u001B[1;32m    436\u001B[0m         \u001B[0moutputs\u001B[0m \u001B[0;34m=\u001B[0m \u001B[0;34m(\u001B[0m\u001B[0mlayer_output\u001B[0m\u001B[0;34m,\u001B[0m\u001B[0;34m)\u001B[0m \u001B[0;34m+\u001B[0m \u001B[0moutputs\u001B[0m\u001B[0;34m\u001B[0m\u001B[0;34m\u001B[0m\u001B[0m\n",
      "\u001B[0;32m~/venv/lib/python3.7/site-packages/transformers/modeling_utils.py\u001B[0m in \u001B[0;36mapply_chunking_to_forward\u001B[0;34m(forward_fn, chunk_size, chunk_dim, *input_tensors)\u001B[0m\n\u001B[1;32m   1785\u001B[0m         \u001B[0;32mreturn\u001B[0m \u001B[0mtorch\u001B[0m\u001B[0;34m.\u001B[0m\u001B[0mcat\u001B[0m\u001B[0;34m(\u001B[0m\u001B[0moutput_chunks\u001B[0m\u001B[0;34m,\u001B[0m \u001B[0mdim\u001B[0m\u001B[0;34m=\u001B[0m\u001B[0mchunk_dim\u001B[0m\u001B[0;34m)\u001B[0m\u001B[0;34m\u001B[0m\u001B[0;34m\u001B[0m\u001B[0m\n\u001B[1;32m   1786\u001B[0m \u001B[0;34m\u001B[0m\u001B[0m\n\u001B[0;32m-> 1787\u001B[0;31m     \u001B[0;32mreturn\u001B[0m \u001B[0mforward_fn\u001B[0m\u001B[0;34m(\u001B[0m\u001B[0;34m*\u001B[0m\u001B[0minput_tensors\u001B[0m\u001B[0;34m)\u001B[0m\u001B[0;34m\u001B[0m\u001B[0;34m\u001B[0m\u001B[0m\n\u001B[0m",
      "\u001B[0;32m~/venv/lib/python3.7/site-packages/transformers/models/roberta/modeling_roberta.py\u001B[0m in \u001B[0;36mfeed_forward_chunk\u001B[0;34m(self, attention_output)\u001B[0m\n\u001B[1;32m    443\u001B[0m \u001B[0;34m\u001B[0m\u001B[0m\n\u001B[1;32m    444\u001B[0m     \u001B[0;32mdef\u001B[0m \u001B[0mfeed_forward_chunk\u001B[0m\u001B[0;34m(\u001B[0m\u001B[0mself\u001B[0m\u001B[0;34m,\u001B[0m \u001B[0mattention_output\u001B[0m\u001B[0;34m)\u001B[0m\u001B[0;34m:\u001B[0m\u001B[0;34m\u001B[0m\u001B[0;34m\u001B[0m\u001B[0m\n\u001B[0;32m--> 445\u001B[0;31m         \u001B[0mintermediate_output\u001B[0m \u001B[0;34m=\u001B[0m \u001B[0mself\u001B[0m\u001B[0;34m.\u001B[0m\u001B[0mintermediate\u001B[0m\u001B[0;34m(\u001B[0m\u001B[0mattention_output\u001B[0m\u001B[0;34m)\u001B[0m\u001B[0;34m\u001B[0m\u001B[0;34m\u001B[0m\u001B[0m\n\u001B[0m\u001B[1;32m    446\u001B[0m         \u001B[0mlayer_output\u001B[0m \u001B[0;34m=\u001B[0m \u001B[0mself\u001B[0m\u001B[0;34m.\u001B[0m\u001B[0moutput\u001B[0m\u001B[0;34m(\u001B[0m\u001B[0mintermediate_output\u001B[0m\u001B[0;34m,\u001B[0m \u001B[0mattention_output\u001B[0m\u001B[0;34m)\u001B[0m\u001B[0;34m\u001B[0m\u001B[0;34m\u001B[0m\u001B[0m\n\u001B[1;32m    447\u001B[0m         \u001B[0;32mreturn\u001B[0m \u001B[0mlayer_output\u001B[0m\u001B[0;34m\u001B[0m\u001B[0;34m\u001B[0m\u001B[0m\n",
      "\u001B[0;32m/mnt/appl/software/PyTorch/1.7.1-fosscuda-2019b-Python-3.7.4/lib/python3.7/site-packages/torch/nn/modules/module.py\u001B[0m in \u001B[0;36m_call_impl\u001B[0;34m(self, *input, **kwargs)\u001B[0m\n\u001B[1;32m    725\u001B[0m             \u001B[0mresult\u001B[0m \u001B[0;34m=\u001B[0m \u001B[0mself\u001B[0m\u001B[0;34m.\u001B[0m\u001B[0m_slow_forward\u001B[0m\u001B[0;34m(\u001B[0m\u001B[0;34m*\u001B[0m\u001B[0minput\u001B[0m\u001B[0;34m,\u001B[0m \u001B[0;34m**\u001B[0m\u001B[0mkwargs\u001B[0m\u001B[0;34m)\u001B[0m\u001B[0;34m\u001B[0m\u001B[0;34m\u001B[0m\u001B[0m\n\u001B[1;32m    726\u001B[0m         \u001B[0;32melse\u001B[0m\u001B[0;34m:\u001B[0m\u001B[0;34m\u001B[0m\u001B[0;34m\u001B[0m\u001B[0m\n\u001B[0;32m--> 727\u001B[0;31m             \u001B[0mresult\u001B[0m \u001B[0;34m=\u001B[0m \u001B[0mself\u001B[0m\u001B[0;34m.\u001B[0m\u001B[0mforward\u001B[0m\u001B[0;34m(\u001B[0m\u001B[0;34m*\u001B[0m\u001B[0minput\u001B[0m\u001B[0;34m,\u001B[0m \u001B[0;34m**\u001B[0m\u001B[0mkwargs\u001B[0m\u001B[0;34m)\u001B[0m\u001B[0;34m\u001B[0m\u001B[0;34m\u001B[0m\u001B[0m\n\u001B[0m\u001B[1;32m    728\u001B[0m         for hook in itertools.chain(\n\u001B[1;32m    729\u001B[0m                 \u001B[0m_global_forward_hooks\u001B[0m\u001B[0;34m.\u001B[0m\u001B[0mvalues\u001B[0m\u001B[0;34m(\u001B[0m\u001B[0;34m)\u001B[0m\u001B[0;34m,\u001B[0m\u001B[0;34m\u001B[0m\u001B[0;34m\u001B[0m\u001B[0m\n",
      "\u001B[0;32m~/venv/lib/python3.7/site-packages/transformers/models/roberta/modeling_roberta.py\u001B[0m in \u001B[0;36mforward\u001B[0;34m(self, hidden_states)\u001B[0m\n\u001B[1;32m    344\u001B[0m \u001B[0;34m\u001B[0m\u001B[0m\n\u001B[1;32m    345\u001B[0m     \u001B[0;32mdef\u001B[0m \u001B[0mforward\u001B[0m\u001B[0;34m(\u001B[0m\u001B[0mself\u001B[0m\u001B[0;34m,\u001B[0m \u001B[0mhidden_states\u001B[0m\u001B[0;34m)\u001B[0m\u001B[0;34m:\u001B[0m\u001B[0;34m\u001B[0m\u001B[0;34m\u001B[0m\u001B[0m\n\u001B[0;32m--> 346\u001B[0;31m         \u001B[0mhidden_states\u001B[0m \u001B[0;34m=\u001B[0m \u001B[0mself\u001B[0m\u001B[0;34m.\u001B[0m\u001B[0mdense\u001B[0m\u001B[0;34m(\u001B[0m\u001B[0mhidden_states\u001B[0m\u001B[0;34m)\u001B[0m\u001B[0;34m\u001B[0m\u001B[0;34m\u001B[0m\u001B[0m\n\u001B[0m\u001B[1;32m    347\u001B[0m         \u001B[0mhidden_states\u001B[0m \u001B[0;34m=\u001B[0m \u001B[0mself\u001B[0m\u001B[0;34m.\u001B[0m\u001B[0mintermediate_act_fn\u001B[0m\u001B[0;34m(\u001B[0m\u001B[0mhidden_states\u001B[0m\u001B[0;34m)\u001B[0m\u001B[0;34m\u001B[0m\u001B[0;34m\u001B[0m\u001B[0m\n\u001B[1;32m    348\u001B[0m         \u001B[0;32mreturn\u001B[0m \u001B[0mhidden_states\u001B[0m\u001B[0;34m\u001B[0m\u001B[0;34m\u001B[0m\u001B[0m\n",
      "\u001B[0;32m/mnt/appl/software/PyTorch/1.7.1-fosscuda-2019b-Python-3.7.4/lib/python3.7/site-packages/torch/nn/modules/module.py\u001B[0m in \u001B[0;36m_call_impl\u001B[0;34m(self, *input, **kwargs)\u001B[0m\n\u001B[1;32m    725\u001B[0m             \u001B[0mresult\u001B[0m \u001B[0;34m=\u001B[0m \u001B[0mself\u001B[0m\u001B[0;34m.\u001B[0m\u001B[0m_slow_forward\u001B[0m\u001B[0;34m(\u001B[0m\u001B[0;34m*\u001B[0m\u001B[0minput\u001B[0m\u001B[0;34m,\u001B[0m \u001B[0;34m**\u001B[0m\u001B[0mkwargs\u001B[0m\u001B[0;34m)\u001B[0m\u001B[0;34m\u001B[0m\u001B[0;34m\u001B[0m\u001B[0m\n\u001B[1;32m    726\u001B[0m         \u001B[0;32melse\u001B[0m\u001B[0;34m:\u001B[0m\u001B[0;34m\u001B[0m\u001B[0;34m\u001B[0m\u001B[0m\n\u001B[0;32m--> 727\u001B[0;31m             \u001B[0mresult\u001B[0m \u001B[0;34m=\u001B[0m \u001B[0mself\u001B[0m\u001B[0;34m.\u001B[0m\u001B[0mforward\u001B[0m\u001B[0;34m(\u001B[0m\u001B[0;34m*\u001B[0m\u001B[0minput\u001B[0m\u001B[0;34m,\u001B[0m \u001B[0;34m**\u001B[0m\u001B[0mkwargs\u001B[0m\u001B[0;34m)\u001B[0m\u001B[0;34m\u001B[0m\u001B[0;34m\u001B[0m\u001B[0m\n\u001B[0m\u001B[1;32m    728\u001B[0m         for hook in itertools.chain(\n\u001B[1;32m    729\u001B[0m                 \u001B[0m_global_forward_hooks\u001B[0m\u001B[0;34m.\u001B[0m\u001B[0mvalues\u001B[0m\u001B[0;34m(\u001B[0m\u001B[0;34m)\u001B[0m\u001B[0;34m,\u001B[0m\u001B[0;34m\u001B[0m\u001B[0;34m\u001B[0m\u001B[0m\n",
      "\u001B[0;32m/mnt/appl/software/PyTorch/1.7.1-fosscuda-2019b-Python-3.7.4/lib/python3.7/site-packages/torch/nn/modules/linear.py\u001B[0m in \u001B[0;36mforward\u001B[0;34m(self, input)\u001B[0m\n\u001B[1;32m     91\u001B[0m \u001B[0;34m\u001B[0m\u001B[0m\n\u001B[1;32m     92\u001B[0m     \u001B[0;32mdef\u001B[0m \u001B[0mforward\u001B[0m\u001B[0;34m(\u001B[0m\u001B[0mself\u001B[0m\u001B[0;34m,\u001B[0m \u001B[0minput\u001B[0m\u001B[0;34m:\u001B[0m \u001B[0mTensor\u001B[0m\u001B[0;34m)\u001B[0m \u001B[0;34m->\u001B[0m \u001B[0mTensor\u001B[0m\u001B[0;34m:\u001B[0m\u001B[0;34m\u001B[0m\u001B[0;34m\u001B[0m\u001B[0m\n\u001B[0;32m---> 93\u001B[0;31m         \u001B[0;32mreturn\u001B[0m \u001B[0mF\u001B[0m\u001B[0;34m.\u001B[0m\u001B[0mlinear\u001B[0m\u001B[0;34m(\u001B[0m\u001B[0minput\u001B[0m\u001B[0;34m,\u001B[0m \u001B[0mself\u001B[0m\u001B[0;34m.\u001B[0m\u001B[0mweight\u001B[0m\u001B[0;34m,\u001B[0m \u001B[0mself\u001B[0m\u001B[0;34m.\u001B[0m\u001B[0mbias\u001B[0m\u001B[0;34m)\u001B[0m\u001B[0;34m\u001B[0m\u001B[0;34m\u001B[0m\u001B[0m\n\u001B[0m\u001B[1;32m     94\u001B[0m \u001B[0;34m\u001B[0m\u001B[0m\n\u001B[1;32m     95\u001B[0m     \u001B[0;32mdef\u001B[0m \u001B[0mextra_repr\u001B[0m\u001B[0;34m(\u001B[0m\u001B[0mself\u001B[0m\u001B[0;34m)\u001B[0m \u001B[0;34m->\u001B[0m \u001B[0mstr\u001B[0m\u001B[0;34m:\u001B[0m\u001B[0;34m\u001B[0m\u001B[0;34m\u001B[0m\u001B[0m\n",
      "\u001B[0;32m/mnt/appl/software/PyTorch/1.7.1-fosscuda-2019b-Python-3.7.4/lib/python3.7/site-packages/torch/nn/functional.py\u001B[0m in \u001B[0;36mlinear\u001B[0;34m(input, weight, bias)\u001B[0m\n\u001B[1;32m   1690\u001B[0m         \u001B[0mret\u001B[0m \u001B[0;34m=\u001B[0m \u001B[0mtorch\u001B[0m\u001B[0;34m.\u001B[0m\u001B[0maddmm\u001B[0m\u001B[0;34m(\u001B[0m\u001B[0mbias\u001B[0m\u001B[0;34m,\u001B[0m \u001B[0minput\u001B[0m\u001B[0;34m,\u001B[0m \u001B[0mweight\u001B[0m\u001B[0;34m.\u001B[0m\u001B[0mt\u001B[0m\u001B[0;34m(\u001B[0m\u001B[0;34m)\u001B[0m\u001B[0;34m)\u001B[0m\u001B[0;34m\u001B[0m\u001B[0;34m\u001B[0m\u001B[0m\n\u001B[1;32m   1691\u001B[0m     \u001B[0;32melse\u001B[0m\u001B[0;34m:\u001B[0m\u001B[0;34m\u001B[0m\u001B[0;34m\u001B[0m\u001B[0m\n\u001B[0;32m-> 1692\u001B[0;31m         \u001B[0moutput\u001B[0m \u001B[0;34m=\u001B[0m \u001B[0minput\u001B[0m\u001B[0;34m.\u001B[0m\u001B[0mmatmul\u001B[0m\u001B[0;34m(\u001B[0m\u001B[0mweight\u001B[0m\u001B[0;34m.\u001B[0m\u001B[0mt\u001B[0m\u001B[0;34m(\u001B[0m\u001B[0;34m)\u001B[0m\u001B[0;34m)\u001B[0m\u001B[0;34m\u001B[0m\u001B[0;34m\u001B[0m\u001B[0m\n\u001B[0m\u001B[1;32m   1693\u001B[0m         \u001B[0;32mif\u001B[0m \u001B[0mbias\u001B[0m \u001B[0;32mis\u001B[0m \u001B[0;32mnot\u001B[0m \u001B[0;32mNone\u001B[0m\u001B[0;34m:\u001B[0m\u001B[0;34m\u001B[0m\u001B[0;34m\u001B[0m\u001B[0m\n\u001B[1;32m   1694\u001B[0m             \u001B[0moutput\u001B[0m \u001B[0;34m+=\u001B[0m \u001B[0mbias\u001B[0m\u001B[0;34m\u001B[0m\u001B[0;34m\u001B[0m\u001B[0m\n",
      "\u001B[0;31mRuntimeError\u001B[0m: CUDA out of memory. Tried to allocate 96.00 MiB (GPU 0; 31.75 GiB total capacity; 29.09 GiB already allocated; 62.00 MiB free; 30.91 GiB reserved in total by PyTorch)"
     ]
    }
   ],
   "source": [
    "for i in range(1):\n",
    "    if i == 0:\n",
    "        bert_name = (\n",
    "            bert_name_short\n",
    "        ) = \"deepset/xlm-roberta-large-squad2\"  # \"DeepPavlov/bert-base-multilingual-cased-sentence\" #\"bert-base-multilingual-cased\"  # \"deepset/xlm-roberta-large-squad2\"\n",
    "        max_length = None\n",
    "        batch_size = 12\n",
    "        num_epochs = 30\n",
    "        post = \"\"\n",
    "        model_name = f\"{bert_name_short}_bs{batch_size}{post}\"\n",
    "        output_path = pjoin(\"models_clean\", model_name)\n",
    "    elif i == 1:\n",
    "        bert_name = (\n",
    "            bert_name_short\n",
    "        ) = \"DeepPavlov/bert-base-multilingual-cased-sentence\"  # \"bert-base-multilingual-cased\"  # \"deepset/xlm-roberta-large-squad2\"\n",
    "        max_length = 512\n",
    "        batch_size = 7\n",
    "        num_epochs = 30\n",
    "        post = \"\"\n",
    "        model_name = f\"{bert_name_short}_bs{batch_size}{post}\"\n",
    "        output_path = pjoin(\"models_clean\", model_name)\n",
    "    elif i == 3:\n",
    "        bert_name = (\n",
    "            bert_name_short\n",
    "        ) = \"DeepPavlov/bert-base-bg-cs-pl-ru-cased\"  # \"bert-base-multilingual-cased\"  # \"deepset/xlm-roberta-large-squad2\"\n",
    "        max_length = 512\n",
    "        batch_size = 2\n",
    "        num_epochs = 30\n",
    "        post = \"\"\n",
    "        model_name = f\"{bert_name_short}_bs{batch_size}{post}\"\n",
    "        output_path = pjoin(\"models_clean\", model_name)\n",
    "    if i == 2:\n",
    "        bert_name = (\n",
    "            bert_name_short\n",
    "        ) = \"deepset/xlm-roberta-large-squad2\"  # \"DeepPavlov/bert-base-multilingual-cased-sentence\" #\"bert-base-multilingual-cased\"  # \"deepset/xlm-roberta-large-squad2\"\n",
    "        max_length = None\n",
    "        batch_size = 8\n",
    "        num_epochs = 30\n",
    "        post = \"\"\n",
    "        model_name = f\"{bert_name_short}_bs{batch_size}{post}\"\n",
    "        output_path = pjoin(\"models_clean\", model_name)\n",
    "\n",
    "    os.makedirs(output_path, exist_ok=True)\n",
    "    logger.info(f\"output path: {output_path}\")\n",
    "    pickle.dump(trn_examples, open(pjoin(output_path, \"trn_examples.p\"), \"wb\"))\n",
    "    pickle.dump(tst_examples, open(pjoin(output_path, \"tst_examples.p\"), \"wb\"))\n",
    "    pickle.dump(val_examples, open(pjoin(output_path, \"val_examples.p\"), \"wb\"))\n",
    "\n",
    "    cfg = OrderedDict(\n",
    "        [\n",
    "            (\"bert_name\", bert_name),\n",
    "            (\"bert_name_short\", bert_name_short),\n",
    "            (\"batch_size\", batch_size),\n",
    "            (\"max_length\", max_length),\n",
    "        ]\n",
    "    )\n",
    "\n",
    "    with open(pjoin(output_path, \"rteconfig.json\"), \"w\") as outfile:\n",
    "        outfile.write(json.dumps(cfg, indent=3))\n",
    "\n",
    "    trn_dataloader = DataLoader(trn_examples, shuffle=True, batch_size=batch_size)\n",
    "    val_dataloader = DataLoader(val_examples, shuffle=False, batch_size=batch_size)\n",
    "    tst_dataloader = DataLoader(tst_examples, shuffle=False, batch_size=batch_size)\n",
    "\n",
    "    trn_evaluator = CESoftmaxAccuracyEvaluator.from_input_examples(\n",
    "        trn_examples, name=\"train\"\n",
    "    )\n",
    "    val_evaluator = CESoftmaxAccuracyEvaluator.from_input_examples(\n",
    "        val_examples, name=\"validation\"\n",
    "    )\n",
    "    tst_evaluator = CESoftmaxAccuracyEvaluator.from_input_examples(\n",
    "        tst_examples, name=\"test\"\n",
    "    )\n",
    "\n",
    "    # 10% of train data for warm-up\n",
    "    warmup_steps = math.ceil(len(trn_dataloader) * num_epochs * 0.1)\n",
    "    logger.info(f\"warmup_steps: {warmup_steps}\")\n",
    "\n",
    "    model = CrossEncoder(bert_name, num_labels=3, max_length=max_length)\n",
    "\n",
    "    def cb(score, epoch, steps):\n",
    "        logger.info(f\"E{epoch}: score: {score}\")\n",
    "        if score > model.best_score:\n",
    "            logger.info(f\"new best model for score: {score}\")\n",
    "\n",
    "    model.fit(\n",
    "        train_dataloader=trn_dataloader,\n",
    "        epochs=num_epochs,\n",
    "        warmup_steps=warmup_steps,\n",
    "        evaluator=SequentialEvaluator([trn_evaluator, val_evaluator]),\n",
    "        output_path=output_path,\n",
    "        callback=cb,\n",
    "        save_best_model=True,\n",
    "    )\n",
    "\n",
    "    model = CrossEncoder(output_path, max_length=max_length)\n",
    "    evals[output_path] = tst_evaluator(model, output_path=output_path)"
   ]
  },
  {
   "cell_type": "code",
   "execution_count": null,
   "id": "dd707e66-bef1-455f-acef-0e80ecf307b1",
   "metadata": {},
   "outputs": [],
   "source": [
    "len(trn_examples)"
   ]
  },
  {
   "cell_type": "code",
   "execution_count": 13,
   "id": "89bae155-e2ba-4421-981b-4901c8f0b8f0",
   "metadata": {},
   "outputs": [
    {
     "name": "stdout",
     "output_type": "stream",
     "text": [
      "bia\n"
     ]
    }
   ],
   "source": [
    "print(\"bia\")"
   ]
  },
  {
   "cell_type": "code",
   "execution_count": 14,
   "id": "43fb66a3-12a9-4c9f-8217-dec9ce0c1cfe",
   "metadata": {},
   "outputs": [
    {
     "data": {
      "text/plain": [
       "{'models_anew/deepset/xlm-roberta-large-squad2_bs8': 0.7890625,\n",
       " 'models_anew/deepset/xlm-roberta-large-squad2_bs9': 0.7924107142857143,\n",
       " 'models_anew/deepset/xlm-roberta-large-squad2_bs10': 0.7991071428571429,\n",
       " 'models_anew/deepset/xlm-roberta-large-squad2_bs11': 0.7689732142857143}"
      ]
     },
     "execution_count": 14,
     "metadata": {},
     "output_type": "execute_result"
    }
   ],
   "source": [
    "evals"
   ]
  },
  {
   "cell_type": "code",
   "execution_count": 57,
   "id": "0abf2e73-7b72-4087-931f-38bf7d37d76e",
   "metadata": {},
   "outputs": [],
   "source": [
    "torch.cuda.empty_cache()"
   ]
  },
  {
   "cell_type": "code",
   "execution_count": 58,
   "id": "caae8213-4ea5-41bb-b1ec-91336bce5862",
   "metadata": {},
   "outputs": [
    {
     "data": {
      "text/plain": [
       "48"
      ]
     },
     "execution_count": 58,
     "metadata": {},
     "output_type": "execute_result"
    }
   ],
   "source": [
    "import gc\n",
    "\n",
    "gc.collect()"
   ]
  },
  {
   "cell_type": "code",
   "execution_count": 19,
   "id": "fa60eae1-b438-4f6a-9956-82da1eecaaf9",
   "metadata": {},
   "outputs": [],
   "source": [
    "torch.cuda.empty_cache()"
   ]
  },
  {
   "cell_type": "code",
   "execution_count": null,
   "id": "998e1dad-6d7a-4549-8830-139dd4ffc65a",
   "metadata": {},
   "outputs": [],
   "source": [
    "bert_name = (\n",
    "    bert_name_short\n",
    ") = \"bert-base-multilingual-cased\"  # \"deepset/xlm-roberta-large-squad2\"  # \"DeepPavlov/bert-base-multilingual-cased-sentence\" #\"deepset/xlm-roberta-large-squad2\"\n",
    "max_length = None\n",
    "batch_size = 8\n",
    "num_epochs = 100\n",
    "post = \"\"\n",
    "model_name = f\"{bert_name_short}_bs{batch_size}{post}\"\n",
    "output_path = pjoin(\"~/nli/EXP/may21_17_raw__\", model_name)\n",
    "\n",
    "os.makedirs(output_path, exist_ok=True)\n",
    "\n",
    "logger.info(f\"output path: {output_path}\")\n",
    "pickle.dump(trn_examples, open(pjoin(output_path, \"trn_examples.p\"), \"wb\"))\n",
    "pickle.dump(tst_examples, open(pjoin(output_path, \"tst_examples.p\"), \"wb\"))\n",
    "pickle.dump(val_examples, open(pjoin(output_path, \"val_examples.p\"), \"wb\"))\n",
    "\n",
    "cfg = OrderedDict(\n",
    "    [\n",
    "        (\"bert_name\", bert_name),\n",
    "        (\"bert_name_short\", bert_name_short),\n",
    "        (\"batch_size\", batch_size),\n",
    "        (\"max_length\", max_length),\n",
    "    ]\n",
    ")\n",
    "\n",
    "with open(pjoin(output_path, \"rteconfig.json\"), \"w\") as outfile:\n",
    "    outfile.write(json.dumps(cfg, indent=3))\n",
    "\n",
    "trn_dataloader = DataLoader(trn_examples, shuffle=True, batch_size=batch_size)\n",
    "val_dataloader = DataLoader(val_examples, shuffle=False, batch_size=batch_size)\n",
    "tst_dataloader = DataLoader(tst_examples, shuffle=False, batch_size=batch_size)\n",
    "\n",
    "trn_evaluator = CESoftmaxAccuracyEvaluator.from_input_examples(\n",
    "    trn_examples, name=\"train\"\n",
    ")\n",
    "val_evaluator = CESoftmaxAccuracyEvaluator.from_input_examples(\n",
    "    val_examples, name=\"validation\"\n",
    ")\n",
    "tst_evaluator = CESoftmaxAccuracyEvaluator.from_input_examples(\n",
    "    tst_examples, name=\"test\"\n",
    ")\n",
    "\n",
    "# 10% of train data for warm-up\n",
    "warmup_steps = math.ceil(len(trn_dataloader) * num_epochs * 0.1)\n",
    "logger.info(f\"warmup_steps: {warmup_steps}\")\n",
    "\n",
    "model = CrossEncoder(bert_name, num_labels=3, max_length=max_length)\n",
    "\n",
    "\n",
    "def cb(score, epoch, steps):\n",
    "    logger.info(f\"E{epoch}: score: {score}\")\n",
    "    if score > model.best_score:\n",
    "        logger.info(f\"new best model for score: {score}\")\n",
    "\n",
    "\n",
    "model.fit(\n",
    "    train_dataloader=trn_dataloader,\n",
    "    epochs=num_epochs,\n",
    "    warmup_steps=warmup_steps,\n",
    "    evaluator=SequentialEvaluator([trn_evaluator, val_evaluator]),\n",
    "    output_path=output_path,\n",
    "    callback=cb,\n",
    "    save_best_model=True,\n",
    ")\n",
    "\n",
    "model = CrossEncoder(output_path, max_length=max_length)\n",
    "tst_evaluator(model, output_path=output_path)"
   ]
  }
 ],
 "metadata": {
  "kernelspec": {
   "display_name": "Python 3",
   "language": "python",
   "name": "python3"
  },
  "language_info": {
   "codemirror_mode": {
    "name": "ipython",
    "version": 3
   },
   "file_extension": ".py",
   "mimetype": "text/x-python",
   "name": "python",
   "nbconvert_exporter": "python",
   "pygments_lexer": "ipython3",
   "version": "3.7.4"
  }
 },
 "nbformat": 4,
 "nbformat_minor": 5
}